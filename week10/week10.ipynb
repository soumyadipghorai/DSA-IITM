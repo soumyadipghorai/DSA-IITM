{
 "cells": [
  {
   "cell_type": "code",
   "execution_count": 1,
   "metadata": {},
   "outputs": [
    {
     "name": "stdout",
     "output_type": "stream",
     "text": [
      "[0, 2, 7, 14, 16]\n"
     ]
    }
   ],
   "source": [
    "# brute force \n",
    "def stringmatch(t,p):\n",
    "    poslist = []\n",
    "    for i in range(len(t)-len(p)+1):\n",
    "        # start matching \n",
    "        matched = True\n",
    "        j = 0\n",
    "        # break if not matched vbefore len(p)\n",
    "        while j < len(p) and matched:\n",
    "            if t[i+j] != p[j]:\n",
    "                matched = False\n",
    "            j = j+1\n",
    "        \n",
    "        # if pattern of len(p) found append \n",
    "        if matched:\n",
    "            poslist.append(i)\n",
    "\n",
    "    return(poslist)\n",
    "\n",
    "# O(nm)\n",
    "print(stringmatch('abababbababbbbababab','abab'))"
   ]
  },
  {
   "cell_type": "code",
   "execution_count": 2,
   "metadata": {},
   "outputs": [
    {
     "name": "stdout",
     "output_type": "stream",
     "text": [
      "[0, 2, 7, 14, 16]\n"
     ]
    }
   ],
   "source": [
    "# reverse \n",
    "def stringmatchrev(t,p):\n",
    "    poslist = []\n",
    "    for i in range(len(t)-len(p)+1):\n",
    "        matched = True\n",
    "        j = len(p)-1\n",
    "        while j >= 0 and matched:\n",
    "            if t[i+j] != p[j]:\n",
    "                matched = False\n",
    "            j = j-1\n",
    "        if matched:\n",
    "            poslist.append(i)\n",
    "    return(poslist)\n",
    "\n",
    "# O(nm)\n",
    "print(stringmatchrev('abababbababbbbababab','abab'))"
   ]
  },
  {
   "cell_type": "code",
   "execution_count": 3,
   "metadata": {},
   "outputs": [
    {
     "name": "stdout",
     "output_type": "stream",
     "text": [
      "[0, 7]\n"
     ]
    }
   ],
   "source": [
    "# sublinear \n",
    "def boyermoore(t,p):\n",
    "    last = {} #! Preprocess save the last occurance \n",
    "    for i in range(len(p)):\n",
    "        last[p[i]] = i\n",
    "    \n",
    "    poslist, i = [], 0\n",
    "    while i <= (len(t)-len(p)):\n",
    "        \n",
    "        matched,j = True,len(p)-1\n",
    "        while j >= 0 and matched:\n",
    "            if t[i+j] != p[j]:\n",
    "                matched = False\n",
    "            j = j - 1\n",
    "        # if matched then move 1 step \n",
    "        if matched:\n",
    "            poslist.append(i)\n",
    "            i = i + 1\n",
    "        \n",
    "        # if mismatched then fix j \n",
    "        else:\n",
    "            j = j + 1\n",
    "            # if char in pattern \n",
    "\n",
    "            if t[i+j] in last.keys():\n",
    "                i = i + max(j-last[t[i+j]],1)\n",
    "            # skip the char and move to the next \n",
    "            else:\n",
    "                i = i + j + 1\n",
    "    return(poslist)\n",
    "      \n",
    "# O(nm) if dict is not there then O(#chars) to initialize the lastdict \n",
    "#? used in grep \n",
    "print(boyermoore('abcaaacabc','abc'))"
   ]
  },
  {
   "cell_type": "code",
   "execution_count": 9,
   "metadata": {},
   "outputs": [
    {
     "name": "stdout",
     "output_type": "stream",
     "text": [
      "[0, 4, 6, 13]\n"
     ]
    }
   ],
   "source": [
    "def rabinkarp(t,p):\n",
    "    poslist = []\n",
    "    numt,nump = 0,0\n",
    "    for i in range(len(p)):\n",
    "        numt = 10*numt + int(t[i])\n",
    "        nump = 10*nump + int(p[i])\n",
    "\n",
    "    if numt == nump:\n",
    "        poslist.append(0)\n",
    "    \n",
    "    for i in range(1,len(t)-len(p)+1):\n",
    "        numt = numt - int(t[i-1])*(10**(len(p)-1))\n",
    "        numt = 10*numt + int(t[i+len(p)-1])\n",
    "        if numt == nump:\n",
    "            poslist.append(i)\n",
    "    \n",
    "    return poslist\n",
    "\n",
    "print(rabinkarp('233323233454323','23'))"
   ]
  },
  {
   "cell_type": "code",
   "execution_count": 10,
   "metadata": {},
   "outputs": [
    {
     "name": "stdout",
     "output_type": "stream",
     "text": [
      "[0, 5]\n"
     ]
    }
   ],
   "source": [
    "def rabin_karp(text, pattern):\n",
    "    match_found =[]\n",
    "    n = len(text)\n",
    "    m = len(pattern)    \n",
    "    # Prime number to use for the hash function\n",
    "    prime = 101   \n",
    "    # Calculate the hash value of the pattern\n",
    "    pattern_hash = 0\n",
    "    for i in range(m):\n",
    "        pattern_hash += ord(pattern[i])\n",
    "    pattern_hash = pattern_hash % prime\n",
    "    \n",
    "    # Calculate the hash value of the first substring of the text\n",
    "    text_hash = 0\n",
    "    for i in range(m):\n",
    "        text_hash += ord(text[i])\n",
    "    text_hash = text_hash % prime\n",
    "    # Iterate through the text, checking for matches with the pattern\n",
    "    for i in range(n - m + 1):\n",
    "        # Check if the current substring matches the pattern\n",
    "        if text_hash == pattern_hash and text[i:i+m] == pattern:\n",
    "            match_found.append(i)       \n",
    "        # Calculate the hash value of the next substring\n",
    "        if i < n - m:\n",
    "            text_hash = (text_hash - ord(text[i]) + ord(text[i+m]))\n",
    "            text_hash = text_hash % prime\n",
    "    # No match found\n",
    "    return match_found\n",
    "text = 'abcdbabcdb'\n",
    "pattern = 'abcdb'\n",
    "print(rabin_karp(text, pattern))"
   ]
  },
  {
   "cell_type": "code",
   "execution_count": 11,
   "metadata": {},
   "outputs": [
    {
     "name": "stdout",
     "output_type": "stream",
     "text": [
      "[0, 0, 0, 1, 1, 2, 3, 4]\n"
     ]
    }
   ],
   "source": [
    "def kmp_fail(p):\n",
    "    m = len(p)\n",
    "    fail = [0 for i in range(m)]\n",
    "    j,k = 1,0\n",
    "    while j < m:\n",
    "        if p[j] == p[k]:\n",
    "            fail[j] = k+1\n",
    "            j,k = j+1,k+1\n",
    "        elif k > 0:\n",
    "            k = fail[k-1]\n",
    "        else:\n",
    "            j = j+1\n",
    "    return(fail)\n",
    "print(kmp_fail('abcaabca'))"
   ]
  },
  {
   "cell_type": "code",
   "execution_count": 12,
   "metadata": {},
   "outputs": [
    {
     "name": "stdout",
     "output_type": "stream",
     "text": [
      "[0, 2, 8]\n"
     ]
    }
   ],
   "source": [
    "def find_kmp(t, p):\n",
    "    match =[]\n",
    "    n,m = len(t),len(p)\n",
    "    if m == 0:\n",
    "        match.append(0)\n",
    "    fail = kmp_fail(p)\n",
    "    j = 0\n",
    "    k = 0\n",
    "    while j < n:\n",
    "        if t[j] == p[k]:\n",
    "            if k == m - 1:\n",
    "                match.append(j - m + 1)\n",
    "                k = 0\n",
    "                j = j - m + 2\n",
    "            else:\n",
    "                j,k = j+1,k+1\n",
    "        elif k > 0:\n",
    "            k = fail[k-1]\n",
    "        else:\n",
    "            j = j+1\n",
    "    return(match)\n",
    "print(find_kmp('ababaabbaba','aba'))\n"
   ]
  },
  {
   "cell_type": "markdown",
   "metadata": {},
   "source": [
    "* A trie is a special kind of tree \n",
    "    * From “information retrieval” \n",
    "    * Pronounced try, distinguish from tree \n",
    "* Rooted tree \n",
    "\n",
    "    * Other than root, each node labelled by a letter from Σ \n",
    "    * Children of a node have distinct labels \n",
    "* Each maximal path is a word \n",
    "\n",
    "    * One word should not be a prefix of another \n",
    "    * Add special end of word symbol $"
   ]
  },
  {
   "cell_type": "code",
   "execution_count": 1,
   "metadata": {},
   "outputs": [
    {
     "name": "stdout",
     "output_type": "stream",
     "text": [
      "True\n",
      "False\n"
     ]
    }
   ],
   "source": [
    "class Trie:\n",
    "    def __init__(self,S=[]):\n",
    "        self.root = {}\n",
    "        for s in S:\n",
    "            self.add(s)\n",
    "    def add(self,s):\n",
    "        curr = self.root\n",
    "        s = s + \"$\"\n",
    "        for c in s:\n",
    "            if c not in curr.keys():\n",
    "                curr[c] = {}\n",
    "            curr = curr[c]\n",
    "    def query(self,s):\n",
    "        curr = self.root\n",
    "        for c in s:\n",
    "            if c not in curr.keys():\n",
    "                return(False)\n",
    "            curr = curr[c]\n",
    "        if \"$\" in curr.keys():\n",
    "            return(True)\n",
    "        else:\n",
    "            return(False)\n",
    "        \n",
    "T = Trie()\n",
    "T.add('car')\n",
    "T.add('card')\n",
    "T.add('care')\n",
    "T.add('dog')\n",
    "T.add('done')\n",
    "print(T.query('dog'))\n",
    "print(T.query('cat'))\n"
   ]
  },
  {
   "cell_type": "code",
   "execution_count": 15,
   "metadata": {},
   "outputs": [
    {
     "name": "stdout",
     "output_type": "stream",
     "text": [
      "{'c': {'a': {'r': {'d': {'$': {}}}}}, 'a': {'r': {'d': {'$': {}}}}, 'r': {'d': {'$': {}}}, 'd': {'$': {}}, '$': {}}\n",
      "{'r': {'d': {'$': {}}}}\n",
      "False\n"
     ]
    }
   ],
   "source": [
    "class SuffixTrie:\n",
    "    def __init__(self,s):\n",
    "        self.root = {}\n",
    "        s = s + \"$\"\n",
    "        for i in range(len(s)):\n",
    "            curr = self.root\n",
    "            for c in s[i:]:\n",
    "                if c not in curr.keys():\n",
    "                    curr[c] = {}\n",
    "                curr = curr[c]\n",
    "    def followPath(self,s):\n",
    "        curr = self.root\n",
    "        for c in s:\n",
    "            if c not in curr.keys():\n",
    "                return(None)\n",
    "            curr = curr[c]\n",
    "        return(curr)\n",
    "    def hasSuffix(self,s):\n",
    "        node = self.followPath(s)\n",
    "        return(node is not None and \"$\" in node.keys())\n",
    "        \n",
    "ST = SuffixTrie('card')\n",
    "print(ST.root)\n",
    "print(ST.followPath('a'))\n",
    "print(ST.hasSuffix('aa'))"
   ]
  },
  {
   "cell_type": "code",
   "execution_count": null,
   "metadata": {},
   "outputs": [],
   "source": []
  }
 ],
 "metadata": {
  "kernelspec": {
   "display_name": "Python 3",
   "language": "python",
   "name": "python3"
  },
  "language_info": {
   "codemirror_mode": {
    "name": "ipython",
    "version": 3
   },
   "file_extension": ".py",
   "mimetype": "text/x-python",
   "name": "python",
   "nbconvert_exporter": "python",
   "pygments_lexer": "ipython3",
   "version": "3.7.9"
  },
  "orig_nbformat": 4
 },
 "nbformat": 4,
 "nbformat_minor": 2
}
