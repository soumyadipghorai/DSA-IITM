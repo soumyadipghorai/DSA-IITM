{
 "cells": [
  {
   "cell_type": "code",
   "execution_count": 1,
   "metadata": {},
   "outputs": [],
   "source": [
    "from timer import Timer"
   ]
  },
  {
   "cell_type": "code",
   "execution_count": 3,
   "metadata": {},
   "outputs": [],
   "source": [
    "\"\"\"\n",
    "num of subsets of n elements --> 2^n\n",
    "\n",
    "time complexity : \n",
    "logn > n > nlogn > n^2 > n^3 > 2^n > n!\n",
    "\"\"\" \n",
    "\n",
    "def maxElem(arr) : \n",
    "    maxVal = arr[0] \n",
    "    for val in arr : \n",
    "        if val > maxVal : \n",
    "            maxVal = val \n",
    "\n",
    "    return maxVal \n",
    "\n",
    "# O(N) "
   ]
  },
  {
   "cell_type": "code",
   "execution_count": 4,
   "metadata": {},
   "outputs": [],
   "source": [
    "def noDuplicate(arr) : \n",
    "    for i in range(len(arr)) : \n",
    "        for j in range(i+1, len(arr)) : \n",
    "            if arr[i] == arr[j] : \n",
    "                return False\n",
    "    return True \n",
    "\n",
    "# O(n(n-1)/2) = O(n^2)"
   ]
  },
  {
   "cell_type": "code",
   "execution_count": 5,
   "metadata": {},
   "outputs": [],
   "source": [
    "def matrixMultiply(A, B) : \n",
    "    m, n, p = len(A), len(B), len(B[0])\n",
    "\n",
    "    C = [\n",
    "            [0 for i in range(p)] for j in range(m)\n",
    "        ]\n",
    "\n",
    "    for i in range(m) :\n",
    "        for j in range(p) : \n",
    "            for k in range(n) : \n",
    "                C[i][j] += A[i][k]*B[k][j]\n",
    "\n",
    "    return C\n",
    "\n",
    "# O(mnp) = O(n^3)"
   ]
  },
  {
   "cell_type": "code",
   "execution_count": 6,
   "metadata": {},
   "outputs": [],
   "source": [
    "def numberOfBits(n) : \n",
    "    count = 1 \n",
    "\n",
    "    while n > 1 : \n",
    "        count += 1 \n",
    "        n //= 2 \n",
    "    return count \n",
    "\n",
    "# 16 -> 8 -> 4 -> 2 -> 1 \n",
    " \n",
    "# logn"
   ]
  },
  {
   "cell_type": "code",
   "execution_count": 7,
   "metadata": {},
   "outputs": [],
   "source": [
    "def towersOfHanoi() : \n",
    "    pass "
   ]
  },
  {
   "attachments": {},
   "cell_type": "markdown",
   "metadata": {},
   "source": [
    "### Search "
   ]
  },
  {
   "cell_type": "code",
   "execution_count": 8,
   "metadata": {},
   "outputs": [],
   "source": [
    "def naiveSearch(value, arr) : # O(n)\n",
    "    for val in arr : \n",
    "        if val == value : \n",
    "            return True \n",
    "    return False \n",
    "\n",
    "\n",
    "def binarySearch(value, arr) : # logn\n",
    "    if arr == [] : \n",
    "        return False \n",
    "\n",
    "    m = len(arr)//2 \n",
    "\n",
    "    if value == arr[m] : \n",
    "        return True \n",
    "\n",
    "    if value > arr[m] : \n",
    "        return binarySearch(value, arr[m+1:])\n",
    "    else : \n",
    "        return binarySearch(value, arr[:m])\n",
    "\n"
   ]
  },
  {
   "cell_type": "code",
   "execution_count": 9,
   "metadata": {},
   "outputs": [
    {
     "name": "stdout",
     "output_type": "stream",
     "text": [
      "0 True 1 False 2 True 3 False 4 True 5 False 6 True 7 False 8 True 9 False 10 True 11 False 12 True 13 False 14 True 15 False 16 True 17 False 18 True 19 False 20 True 21 False 22 True 23 False 24 True 25 False 26 True 27 False 28 True 29 False 30 True 31 False 32 True 33 False 34 True 35 False 36 True 37 False 38 True 39 False 40 True 41 False 42 True 43 False 44 True 45 False 46 True 47 False 48 True 49 False 50 True \n",
      "0 True 1 False 2 True 3 False 4 True 5 False 6 True 7 False 8 True 9 False 10 True 11 False 12 True 13 False 14 True 15 False 16 True 17 False 18 True 19 False 20 True 21 False 22 True 23 False 24 True 25 False 26 True 27 False 28 True 29 False 30 True 31 False 32 True 33 False 34 True 35 False 36 True 37 False 38 True 39 False 40 True 41 False 42 True 43 False 44 True 45 False 46 True 47 False 48 True 49 False 50 True "
     ]
    }
   ],
   "source": [
    "l = list(range(0, 51, 2))\n",
    "\n",
    "for i in range(51) : \n",
    "    print(i, naiveSearch(i, l), end = ' ')\n",
    "print()\n",
    "for i in range(51) : \n",
    "    print(i, binarySearch(i, l), end = ' ')"
   ]
  },
  {
   "cell_type": "code",
   "execution_count": 11,
   "metadata": {},
   "outputs": [
    {
     "name": "stdout",
     "output_type": "stream",
     "text": [
      "naive 17.584844399999994\n",
      "binary 2.736967199999995\n"
     ]
    }
   ],
   "source": [
    "l = list(range(0, pow(10, 5), 2))\n",
    "\n",
    "t = Timer()\n",
    "\n",
    "t.start()\n",
    "for i in range(3001, 13000, 2) : \n",
    "    v = naiveSearch(i, l)\n",
    "t.stop()\n",
    "print('naive', t)\n",
    "\n",
    "t.start()\n",
    "for i in range(3001, 13000, 2) : \n",
    "    v = binarySearch(i, l)\n",
    "t.stop()\n",
    "print('binary', t)"
   ]
  },
  {
   "attachments": {},
   "cell_type": "markdown",
   "metadata": {},
   "source": [
    "### Sort "
   ]
  },
  {
   "cell_type": "code",
   "execution_count": 12,
   "metadata": {},
   "outputs": [],
   "source": [
    "def selectionSort(arr) : #O(n^2) -> always \n",
    "    if len(arr) <= 1 :\n",
    "        return arr \n",
    "\n",
    "    for i in range(len(arr)) : \n",
    "        # arr[:i] is sorted --> invariant\n",
    "        minPos = i \n",
    "        for j in range(i+1, len(arr)) : \n",
    "            if arr[j] <= arr[minPos] : \n",
    "                minPos = j \n",
    "\n",
    "        arr[i], arr[minPos] = arr[minPos], arr[i]\n",
    "\n",
    "    return arr"
   ]
  },
  {
   "cell_type": "code",
   "execution_count": 22,
   "metadata": {},
   "outputs": [
    {
     "name": "stdout",
     "output_type": "stream",
     "text": [
      "random  time taken -->  2.136294000000021\n",
      "asc  time taken -->  2.839868000000024\n",
      "desc  time taken -->  2.956170699999973\n"
     ]
    }
   ],
   "source": [
    "import random \n",
    "\n",
    "random.seed(2021)\n",
    "\n",
    "inputLists = {}\n",
    "\n",
    "inputLists['random'] = [random.randrange(100000) for i in range(5000)]\n",
    "inputLists['asc'] = [i for i in range(5000)]\n",
    "inputLists['desc'] = [i for i in range(4999, -1, -1)]\n",
    "\n",
    "t = Timer()\n",
    "for k in inputLists.keys() : \n",
    "    tmplist = inputLists[k][:]\n",
    "    t.start()\n",
    "    selectionSort(tmplist)\n",
    "    t.stop()\n",
    "    print(k, ' time taken --> ', t)\n",
    "\n",
    "# all takes almost same time "
   ]
  },
  {
   "cell_type": "code",
   "execution_count": 23,
   "metadata": {},
   "outputs": [],
   "source": [
    "def insertionSort(arr) : # O(n^2)\n",
    "    if len(arr) <= 1 : \n",
    "        return arr \n",
    "\n",
    "    for i in range(len(arr)) : \n",
    "        j = i  \n",
    "        # stable sorting \n",
    "        while j > 0 and arr[j] < arr[j-1] : \n",
    "            arr[j], arr[j-1] = arr[j-1], arr[j]\n",
    "            j -= 1 \n",
    "\n",
    "    return arr "
   ]
  },
  {
   "cell_type": "code",
   "execution_count": 24,
   "metadata": {},
   "outputs": [
    {
     "name": "stdout",
     "output_type": "stream",
     "text": [
      "random  time taken -->  4.235608800000023\n",
      "asc  time taken -->  0.0027097999999909916\n",
      "desc  time taken -->  9.680129399999998\n"
     ]
    }
   ],
   "source": [
    "import random \n",
    "\n",
    "random.seed(2021)\n",
    "\n",
    "inputLists = {}\n",
    "\n",
    "inputLists['random'] = [random.randrange(100000) for i in range(5000)]\n",
    "inputLists['asc'] = [i for i in range(5000)]\n",
    "inputLists['desc'] = [i for i in range(4999, -1, -1)]\n",
    "\n",
    "t = Timer()\n",
    "for k in inputLists.keys() : \n",
    "    tmplist = inputLists[k][:]\n",
    "    t.start()\n",
    "    insertionSort(tmplist)\n",
    "    t.stop()\n",
    "    print(k, ' time taken --> ', t)\n",
    "\n",
    "# best for asc worst for desc "
   ]
  },
  {
   "cell_type": "code",
   "execution_count": 6,
   "metadata": {},
   "outputs": [],
   "source": [
    "def Insert(arr, val) : # O(n)\n",
    "    n = len(arr)\n",
    "    if n == 0 : \n",
    "        return [val]\n",
    "    if val >= arr[-1] : \n",
    "        return arr + [val]\n",
    "    else : \n",
    "        return Insert(arr[:-1], val) + arr[-1:]\n",
    "\n",
    "def ISort(arr) : # O(n^2)\n",
    "    n = len(arr) \n",
    "    if n < 1 : \n",
    "        return arr \n",
    "\n",
    "    arr = Insert(ISort(arr[:-1]), arr[-1])\n",
    "\n",
    "    return arr \n",
    "\n",
    "# not all cases take O(n^2) it depends on the input \n",
    "# l.sort() --> inplace \n",
    "# l2 = sorted(l) --> intact "
   ]
  },
  {
   "cell_type": "code",
   "execution_count": 7,
   "metadata": {},
   "outputs": [
    {
     "name": "stdout",
     "output_type": "stream",
     "text": [
      "random  time taken -->  0.020125499999998908\n",
      "asc  time taken -->  0.000823400000001584\n",
      "desc  time taken -->  0.033743999999998664\n"
     ]
    }
   ],
   "source": [
    "import random \n",
    "import sys \n",
    "\n",
    "sys.setrecursionlimit(2**31-1) # set recursion depth \n",
    "\n",
    "random.seed(2021)\n",
    "\n",
    "inputLists = {}\n",
    "\n",
    "inputLists['random'] = [random.randrange(100000) for i in range(200)]\n",
    "inputLists['asc'] = [i for i in range(200)]\n",
    "inputLists['desc'] = [i for i in range(199, -1, -1)]\n",
    "\n",
    "t = Timer()\n",
    "for k in inputLists.keys() : \n",
    "    tmplist = inputLists[k][:]\n",
    "    t.start()\n",
    "    ISort(tmplist)\n",
    "    t.stop()\n",
    "    print(k, ' time taken --> ', t)\n",
    "\n",
    "# max recurssion depth reached \n",
    "# recursion here makes things worse "
   ]
  },
  {
   "cell_type": "code",
   "execution_count": 17,
   "metadata": {},
   "outputs": [],
   "source": [
    "# using 2 pointers \n",
    "# O(n)\n",
    "# drawback is you have to create a new array to store the result \n",
    "# we have to use recurssion\n",
    "def merge(A, B) : \n",
    "    m, n = len(A), len(B)\n",
    "\n",
    "    C, i, j, k = [], 0, 0, 0\n",
    "    while k < m+n : \n",
    "\n",
    "        # jumps \n",
    "        if i == m : \n",
    "            C.extend(B[j:])\n",
    "            k += n-j \n",
    "\n",
    "        elif j == n : \n",
    "            C.extend(A[i:])\n",
    "            k += n-i\n",
    "\n",
    "        # one at a time \n",
    "        elif A[i] < B[j] : \n",
    "            C.append(A[i])\n",
    "            i, k = i+1, k+1\n",
    "        \n",
    "        else : \n",
    "            C.append(B[j])\n",
    "            j, k = j+1, k+1\n",
    "\n",
    "    return C\n",
    "\n",
    "# O(nlogn)\n",
    "def mergeSort(arr) : \n",
    "    n = len(arr) \n",
    "    if n <=1 : \n",
    "        return arr \n",
    "\n",
    "    left = mergeSort(arr[:n//2])\n",
    "    right = mergeSort(arr[n//2:])\n",
    "\n",
    "    B = merge(left, right)\n",
    "\n",
    "    return B "
   ]
  },
  {
   "cell_type": "code",
   "execution_count": 19,
   "metadata": {},
   "outputs": [
    {
     "name": "stdout",
     "output_type": "stream",
     "text": [
      "random  time taken -->  0.8115210999999931\n",
      "asc  time taken -->  0.6882667999999796\n",
      "desc  time taken -->  0.5836129999999855\n"
     ]
    }
   ],
   "source": [
    "import random \n",
    "\n",
    "random.seed(2021)\n",
    "\n",
    "inputLists = {}\n",
    "\n",
    "inputLists['random'] = [random.randrange(100000) for i in range(50000)]\n",
    "inputLists['asc'] = [i for i in range(50000)]\n",
    "inputLists['desc'] = [i for i in range(49999, -1, -1)]\n",
    "\n",
    "t = Timer()\n",
    "for k in inputLists.keys() : \n",
    "    tmplist = inputLists[k][:]\n",
    "    t.start()\n",
    "    mergeSort(tmplist)\n",
    "    t.stop()\n",
    "    print(k, ' time taken --> ', t) \n",
    "\n",
    "# works significantly faster \n"
   ]
  },
  {
   "cell_type": "code",
   "execution_count": null,
   "metadata": {},
   "outputs": [],
   "source": []
  }
 ],
 "metadata": {
  "kernelspec": {
   "display_name": "Python 3",
   "language": "python",
   "name": "python3"
  },
  "language_info": {
   "codemirror_mode": {
    "name": "ipython",
    "version": 3
   },
   "file_extension": ".py",
   "mimetype": "text/x-python",
   "name": "python",
   "nbconvert_exporter": "python",
   "pygments_lexer": "ipython3",
   "version": "3.7.9"
  },
  "orig_nbformat": 4
 },
 "nbformat": 4,
 "nbformat_minor": 2
}
