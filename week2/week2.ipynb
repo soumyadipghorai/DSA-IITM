{
 "cells": [
  {
   "cell_type": "code",
   "execution_count": 2,
   "metadata": {},
   "outputs": [],
   "source": [
    "\"\"\"\n",
    "num of subsets of n elements --> 2^n\n",
    "\n",
    "time complexity : \n",
    "logn > n > nlogn > n^2 > n^3 > 2^n > n!\n",
    "\"\"\" \n",
    "\n",
    "def maxElem(arr) : \n",
    "    maxVal = arr[0] \n",
    "    for val in arr : \n",
    "        if val > maxVal : \n",
    "            maxVal = val \n",
    "\n",
    "    return maxVal \n",
    "\n",
    "# O(N) "
   ]
  },
  {
   "cell_type": "code",
   "execution_count": 1,
   "metadata": {},
   "outputs": [],
   "source": [
    "def noDuplicate(arr) : \n",
    "    for i in range(len(arr)) : \n",
    "        for j in range(i+1, len(arr)) : \n",
    "            if arr[i] == arr[j] : \n",
    "                return False\n",
    "    return True \n",
    "\n",
    "# O(n(n-1)/2) = O(n^2)"
   ]
  },
  {
   "cell_type": "code",
   "execution_count": 3,
   "metadata": {},
   "outputs": [],
   "source": [
    "def matrixMultiply(A, B) : \n",
    "    m, n, p = len(A), len(B), len(B[0])\n",
    "\n",
    "    C = [\n",
    "            [0 for i in range(p)] for j in range(m)\n",
    "        ]\n",
    "\n",
    "    for i in range(m) :\n",
    "        for j in range(p) : \n",
    "            for k in range(n) : \n",
    "                C[i][j] += A[i][k]*B[k][j]\n",
    "\n",
    "    return C\n",
    "\n",
    "# O(mnp) = O(n^3)"
   ]
  },
  {
   "cell_type": "code",
   "execution_count": 5,
   "metadata": {},
   "outputs": [],
   "source": [
    "def numberOfBits(n) : \n",
    "    count = 1 \n",
    "\n",
    "    while n > 1 : \n",
    "        count += 1 \n",
    "        n //= 2 \n",
    "    return count \n",
    "\n",
    "# 16 -> 8 -> 4 -> 2 -> 1 \n",
    " \n",
    "# logn"
   ]
  },
  {
   "cell_type": "code",
   "execution_count": 6,
   "metadata": {},
   "outputs": [],
   "source": [
    "def towersOfHanoi() : \n",
    "    pass "
   ]
  },
  {
   "attachments": {},
   "cell_type": "markdown",
   "metadata": {},
   "source": [
    "### Search "
   ]
  },
  {
   "cell_type": "code",
   "execution_count": 7,
   "metadata": {},
   "outputs": [],
   "source": [
    "def naiveSearch(value, arr) : # O(n)\n",
    "    for val in arr : \n",
    "        if val == value : \n",
    "            return True \n",
    "    return False \n",
    "\n",
    "\n",
    "def binarySearch(value, arr) : # logn\n",
    "    if arr == [] : \n",
    "        return False \n",
    "\n",
    "    m = len(arr)//2 \n",
    "\n",
    "    if value == arr[m] : \n",
    "        return True \n",
    "\n",
    "    if value > arr[m] : \n",
    "        return binarySearch(value, arr[m+1:])\n",
    "    else : \n",
    "        return binarySearch(value, arr[:m])\n",
    "\n"
   ]
  },
  {
   "attachments": {},
   "cell_type": "markdown",
   "metadata": {},
   "source": [
    "### Sort "
   ]
  },
  {
   "cell_type": "code",
   "execution_count": 1,
   "metadata": {},
   "outputs": [],
   "source": [
    "def selectionSort(arr) : #O(n^2) -> always \n",
    "    if len(arr) <= 1 :\n",
    "        return arr \n",
    "\n",
    "    for i in range(len(arr)) : \n",
    "        # arr[:i] is sorted --> invariant\n",
    "        minPos = i \n",
    "        for j in range(i+1, len(arr)) : \n",
    "            if arr[j] < arr[minPos] : \n",
    "                minPos = j \n",
    "\n",
    "        arr[i], arr[minPos] = arr[minPos], arr[i]\n",
    "\n",
    "    return arr"
   ]
  },
  {
   "cell_type": "code",
   "execution_count": 1,
   "metadata": {},
   "outputs": [],
   "source": [
    "def insertionSort(arr) : # O(n^2)\n",
    "    if len(arr) <= 1 : \n",
    "        return arr \n",
    "\n",
    "    for i in range(len(arr)) : \n",
    "        j = i  \n",
    "        # stable sorting \n",
    "        while j > 0 and arr[j] < arr[j-1] : \n",
    "            arr[j], arr[j-1] = arr[j-1], arr[j]\n",
    "            j -= 1 \n",
    "\n",
    "    return arr "
   ]
  },
  {
   "cell_type": "code",
   "execution_count": 3,
   "metadata": {},
   "outputs": [],
   "source": [
    "def Insert(arr, val) : # O(n)\n",
    "    n = len(arr)\n",
    "    if n == 0 : \n",
    "        return [val]\n",
    "    if v >= arr[-1] : \n",
    "        return arr + [v]\n",
    "    else : \n",
    "        return Insert(arr[:-1], v) + arr[-1:]\n",
    "\n",
    "def ISort(arr) : # O(n^2)\n",
    "    n = len(arr) \n",
    "    if n < 1 : \n",
    "        return arr \n",
    "\n",
    "    arr = Insert(Isort(arr[:-1]), arr[-1])\n",
    "\n",
    "    return arr \n",
    "\n",
    "# not all cases take O(n^2) it depends on the input "
   ]
  },
  {
   "cell_type": "code",
   "execution_count": null,
   "metadata": {},
   "outputs": [],
   "source": [
    "# l.sort() --> inplace \n",
    "# l2 = sorted(l) --> intact "
   ]
  }
 ],
 "metadata": {
  "kernelspec": {
   "display_name": "Python 3",
   "language": "python",
   "name": "python3"
  },
  "language_info": {
   "codemirror_mode": {
    "name": "ipython",
    "version": 3
   },
   "file_extension": ".py",
   "mimetype": "text/x-python",
   "name": "python",
   "nbconvert_exporter": "python",
   "pygments_lexer": "ipython3",
   "version": "3.7.9"
  },
  "orig_nbformat": 4
 },
 "nbformat": 4,
 "nbformat_minor": 2
}
