{
 "cells": [
  {
   "cell_type": "code",
   "execution_count": 1,
   "metadata": {},
   "outputs": [],
   "source": [
    "from timer import Timer"
   ]
  },
  {
   "cell_type": "code",
   "execution_count": 3,
   "metadata": {},
   "outputs": [],
   "source": [
    "\"\"\"\n",
    "num of subsets of n elements --> 2^n\n",
    "\n",
    "time complexity : \n",
    "logn > n > nlogn > n^2 > n^3 > 2^n > n!\n",
    "\"\"\" \n",
    "\n",
    "def maxElem(arr) : \n",
    "    maxVal = arr[0] \n",
    "    for val in arr : \n",
    "        if val > maxVal : \n",
    "            maxVal = val \n",
    " \n",
    "    return maxVal \n",
    "\n",
    "# O(N) "
   ]
  },
  {
   "cell_type": "code",
   "execution_count": 4,
   "metadata": {},
   "outputs": [],
   "source": [
    "def noDuplicate(arr) : \n",
    "    for i in range(len(arr)) : \n",
    "        for j in range(i+1, len(arr)) : \n",
    "            if arr[i] == arr[j] : \n",
    "                return False\n",
    "    return True \n",
    "\n",
    "# O(n(n-1)/2) = O(n^2)"
   ]
  },
  {
   "cell_type": "code",
   "execution_count": 5,
   "metadata": {},
   "outputs": [],
   "source": [
    "def matrixMultiply(A, B) : \n",
    "    m, n, p = len(A), len(B), len(B[0])\n",
    "\n",
    "    C = [\n",
    "            [0 for i in range(p)] for j in range(m)\n",
    "        ]\n",
    "\n",
    "    for i in range(m) :\n",
    "        for j in range(p) : \n",
    "            for k in range(n) : \n",
    "                C[i][j] += A[i][k]*B[k][j]\n",
    "\n",
    "    return C\n",
    "\n",
    "# O(mnp) = O(n^3)"
   ]
  },
  {
   "cell_type": "code",
   "execution_count": 3,
   "metadata": {},
   "outputs": [
    {
     "data": {
      "text/plain": [
       "5"
      ]
     },
     "execution_count": 3,
     "metadata": {},
     "output_type": "execute_result"
    }
   ],
   "source": [
    "def numberOfBits(n) : \n",
    "    count = 1 \n",
    "\n",
    "    while n > 1 : \n",
    "        count += 1 \n",
    "        n //= 2 \n",
    "    return count \n",
    "\n",
    "numberOfBits(16)\n",
    "# 16 -> 8 -> 4 -> 2 -> 1 \n",
    " \n",
    "# logn"
   ]
  },
  {
   "cell_type": "code",
   "execution_count": 4,
   "metadata": {},
   "outputs": [
    {
     "name": "stdout",
     "output_type": "stream",
     "text": [
      "Move disk 1 from rod A to rod C\n",
      "Move disk 2 from rod A to rod B\n",
      "Move disk 1 from rod C to rod B\n",
      "Move disk 3 from rod A to rod C\n",
      "Move disk 1 from rod B to rod A\n",
      "Move disk 2 from rod B to rod C\n",
      "Move disk 1 from rod A to rod C\n"
     ]
    }
   ],
   "source": [
    "def TowerOfHanoi(n, from_rod, to_rod, aux_rod):\n",
    "    if n == 0:\n",
    "        return\n",
    "    TowerOfHanoi(n-1, from_rod, aux_rod, to_rod)\n",
    "    print(\"Move disk\", n, \"from rod\", from_rod, \"to rod\", to_rod)\n",
    "    TowerOfHanoi(n-1, aux_rod, to_rod, from_rod)\n",
    "\n",
    "N = 3\n",
    "  \n",
    "# A, C, B are the name of rods\n",
    "TowerOfHanoi(N, 'A', 'C', 'B')"
   ]
  },
  {
   "attachments": {},
   "cell_type": "markdown",
   "metadata": {},
   "source": [
    "### Search "
   ]
  },
  {
   "cell_type": "code",
   "execution_count": 5,
   "metadata": {},
   "outputs": [],
   "source": [
    "# linear Search\n",
    "def naiveSearch(value, arr) : # O(n)\n",
    "    for val in arr : \n",
    "        if val == value : \n",
    "            return True \n",
    "    return False \n",
    "\n",
    "\n",
    "def binarySearch(value, arr) : # logn\n",
    "    if arr == [] : \n",
    "        return False \n",
    "\n",
    "    m = len(arr)//2 \n",
    "\n",
    "    if value == arr[m] : \n",
    "        return True \n",
    "\n",
    "    if value > arr[m] : \n",
    "        return binarySearch(value, arr[m+1:])\n",
    "    else : \n",
    "        return binarySearch(value, arr[:m])\n",
    "\n"
   ]
  },
  {
   "cell_type": "code",
   "execution_count": 9,
   "metadata": {},
   "outputs": [
    {
     "name": "stdout",
     "output_type": "stream",
     "text": [
      "0 True 1 False 2 True 3 False 4 True 5 False 6 True 7 False 8 True 9 False 10 True 11 False 12 True 13 False 14 True 15 False 16 True 17 False 18 True 19 False 20 True 21 False 22 True 23 False 24 True 25 False 26 True 27 False 28 True 29 False 30 True 31 False 32 True 33 False 34 True 35 False 36 True 37 False 38 True 39 False 40 True 41 False 42 True 43 False 44 True 45 False 46 True 47 False 48 True 49 False 50 True \n",
      "0 True 1 False 2 True 3 False 4 True 5 False 6 True 7 False 8 True 9 False 10 True 11 False 12 True 13 False 14 True 15 False 16 True 17 False 18 True 19 False 20 True 21 False 22 True 23 False 24 True 25 False 26 True 27 False 28 True 29 False 30 True 31 False 32 True 33 False 34 True 35 False 36 True 37 False 38 True 39 False 40 True 41 False 42 True 43 False 44 True 45 False 46 True 47 False 48 True 49 False 50 True "
     ]
    }
   ],
   "source": [
    "l = list(range(0, 51, 2))\n",
    "\n",
    "for i in range(51) : \n",
    "    print(i, naiveSearch(i, l), end = ' ')\n",
    "print()\n",
    "for i in range(51) : \n",
    "    print(i, binarySearch(i, l), end = ' ')"
   ]
  },
  {
   "cell_type": "code",
   "execution_count": 6,
   "metadata": {},
   "outputs": [
    {
     "name": "stdout",
     "output_type": "stream",
     "text": [
      "naive 9.156968600000027\n",
      "binary 1.212803200000053\n"
     ]
    }
   ],
   "source": [
    "l = list(range(0, pow(10, 5), 2))\n",
    "\n",
    "t = Timer()\n",
    "\n",
    "t.start()\n",
    "for i in range(3001, 13000, 2) : \n",
    "    v = naiveSearch(i, l)\n",
    "t.stop()\n",
    "print('naive', t)\n",
    "\n",
    "t.start()\n",
    "for i in range(3001, 13000, 2) : \n",
    "    v = binarySearch(i, l)\n",
    "t.stop()\n",
    "print('binary', t)"
   ]
  },
  {
   "attachments": {},
   "cell_type": "markdown",
   "metadata": {},
   "source": [
    "### Sort "
   ]
  },
  {
   "cell_type": "markdown",
   "metadata": {},
   "source": [
    "[Visualizing sorting algorithms](https://youtu.be/kPRA0W1kECg)"
   ]
  },
  {
   "cell_type": "code",
   "execution_count": 7,
   "metadata": {},
   "outputs": [],
   "source": [
    "\"\"\"\n",
    "selection Sort \n",
    "\n",
    "find the next smallest element and bring it front \n",
    "\"\"\"\n",
    "def selectionSort(arr) : #O(n^2) -> always \n",
    "    if len(arr) <= 1 :\n",
    "        return arr \n",
    "\n",
    "    for i in range(len(arr)) : \n",
    "        # arr[:i] is sorted --> invariant\n",
    "        minPos = i \n",
    "        for j in range(i+1, len(arr)) : \n",
    "            if arr[j] <= arr[minPos] : \n",
    "                minPos = j \n",
    "\n",
    "        arr[i], arr[minPos] = arr[minPos], arr[i]\n",
    "\n",
    "    return arr"
   ]
  },
  {
   "cell_type": "code",
   "execution_count": 8,
   "metadata": {},
   "outputs": [
    {
     "name": "stdout",
     "output_type": "stream",
     "text": [
      "random  time taken -->  1.2009752999999819\n",
      "asc  time taken -->  1.3008137000001625\n",
      "desc  time taken -->  1.2996006000000762\n"
     ]
    }
   ],
   "source": [
    "import random \n",
    "\n",
    "random.seed(2021)\n",
    "\n",
    "inputLists = {}\n",
    "\n",
    "inputLists['random'] = [random.randrange(100000) for i in range(5000)]\n",
    "inputLists['asc'] = [i for i in range(5000)]\n",
    "inputLists['desc'] = [i for i in range(4999, -1, -1)]\n",
    "\n",
    "t = Timer()\n",
    "for k in inputLists.keys() : \n",
    "    tmplist = inputLists[k][:]\n",
    "    t.start()\n",
    "    selectionSort(tmplist)\n",
    "    t.stop()\n",
    "    print(k, ' time taken --> ', t)\n",
    "\n",
    "# all takes almost same time "
   ]
  },
  {
   "cell_type": "code",
   "execution_count": 9,
   "metadata": {},
   "outputs": [],
   "source": [
    "\"\"\"\n",
    "Insertion sort \n",
    "\n",
    "loop i from 1 - n\n",
    "keep sorting till the ith element \n",
    "\n",
    "inserting the new value at the right place \n",
    "\"\"\"\n",
    "\n",
    "def insertionSort(arr) : # O(n^2)\n",
    "    if len(arr) <= 1 : \n",
    "        return arr \n",
    "\n",
    "    for i in range(len(arr)) : \n",
    "        j = i  \n",
    "        # stable sorting \n",
    "        while j > 0 and arr[j] < arr[j-1] : \n",
    "            arr[j], arr[j-1] = arr[j-1], arr[j]\n",
    "            j -= 1 \n",
    "\n",
    "    return arr "
   ]
  },
  {
   "cell_type": "code",
   "execution_count": 16,
   "metadata": {},
   "outputs": [
    {
     "name": "stdout",
     "output_type": "stream",
     "text": [
      "random  time taken -->  2.5597923999998784\n",
      "asc  time taken -->  0.0007433999999193475\n",
      "desc  time taken -->  4.640999100000045\n"
     ]
    }
   ],
   "source": [
    "import random \n",
    "\n",
    "random.seed(2021)\n",
    "\n",
    "inputLists = {}\n",
    "\n",
    "inputLists['random'] = [random.randrange(100000) for i in range(5000)]\n",
    "inputLists['asc'] = [i for i in range(5000)]\n",
    "inputLists['desc'] = [i for i in range(4999, -1, -1)]\n",
    "\n",
    "t = Timer()\n",
    "for k in inputLists.keys() : \n",
    "    tmplist = inputLists[k][:]\n",
    "    t.start()\n",
    "    insertionSort(tmplist)\n",
    "    t.stop()\n",
    "    print(k, ' time taken --> ', t)\n",
    "\n",
    "# best for asc worst for desc "
   ]
  },
  {
   "cell_type": "code",
   "execution_count": 18,
   "metadata": {},
   "outputs": [
    {
     "name": "stdout",
     "output_type": "stream",
     "text": [
      "[5, 4, 3, 2, 2, 1]\n",
      "random  time taken -->  3.0322415000000547\n",
      "asc  time taken -->  5.904224999999769\n",
      "desc  time taken -->  0.0018746000000646745\n"
     ]
    }
   ],
   "source": [
    "def insertionSortRev(arr) : \n",
    "    if len(arr) <= 1 : \n",
    "        return arr \n",
    "\n",
    "    for i in reversed(range(len(arr))) : \n",
    "        j = i \n",
    "        while j < len(arr) - 1 and arr[j] < arr[j+1] : \n",
    "            arr[j], arr[j+1] = arr[j+1], arr[j] \n",
    "            j += 1\n",
    "\n",
    "    return arr \n",
    "\n",
    "print(insertionSortRev([5, 2, 1, 4, 2, 3]))\n",
    "\n",
    "random.seed(2021)\n",
    "\n",
    "inputLists = {}\n",
    "\n",
    "inputLists['random'] = [random.randrange(100000) for i in range(5000)]\n",
    "inputLists['asc'] = [i for i in range(5000)]\n",
    "inputLists['desc'] = [i for i in range(4999, -1, -1)]\n",
    "\n",
    "t = Timer()\n",
    "for k in inputLists.keys() : \n",
    "    tmplist = inputLists[k][:]\n",
    "    t.start()\n",
    "    insertionSortRev(tmplist)\n",
    "    t.stop()\n",
    "    print(k, ' time taken --> ', t)\n",
    "\n",
    "# insertionSortRev is best for desc "
   ]
  },
  {
   "cell_type": "code",
   "execution_count": 6,
   "metadata": {},
   "outputs": [],
   "source": [
    "def Insert(arr, val) : # O(n)\n",
    "    n = len(arr)\n",
    "    if n == 0 : \n",
    "        return [val]\n",
    "    if val >= arr[-1] : \n",
    "        return arr + [val]\n",
    "    else : \n",
    "        # take the last element out and pass the val with the remaining elements \n",
    "        return Insert(arr[:-1], val) + arr[-1:]\n",
    "\n",
    "def ISort(arr) : # O(n^2)\n",
    "    n = len(arr) \n",
    "    if n < 1 : \n",
    "        return arr \n",
    "\n",
    "    arr = Insert(ISort(arr[:-1]), arr[-1])\n",
    "\n",
    "    return arr \n",
    "\n",
    "# not all cases take O(n^2) it depends on the input \n",
    "# l.sort() --> inplace \n",
    "# l2 = sorted(l) --> intact "
   ]
  },
  {
   "cell_type": "code",
   "execution_count": 7,
   "metadata": {},
   "outputs": [
    {
     "name": "stdout",
     "output_type": "stream",
     "text": [
      "random  time taken -->  0.020125499999998908\n",
      "asc  time taken -->  0.000823400000001584\n",
      "desc  time taken -->  0.033743999999998664\n"
     ]
    }
   ],
   "source": [
    "import random \n",
    "import sys \n",
    "\n",
    "sys.setrecursionlimit(2**31-1) # set recursion depth \n",
    "\n",
    "random.seed(2021)\n",
    "\n",
    "inputLists = {}\n",
    "\n",
    "inputLists['random'] = [random.randrange(100000) for i in range(200)]\n",
    "inputLists['asc'] = [i for i in range(200)]\n",
    "inputLists['desc'] = [i for i in range(199, -1, -1)]\n",
    "\n",
    "t = Timer()\n",
    "for k in inputLists.keys() : \n",
    "    tmplist = inputLists[k][:]\n",
    "    t.start()\n",
    "    ISort(tmplist)\n",
    "    t.stop()\n",
    "    print(k, ' time taken --> ', t)\n",
    "\n",
    "# max recurssion depth reached \n",
    "# recursion here makes things worse "
   ]
  },
  {
   "cell_type": "code",
   "execution_count": 27,
   "metadata": {},
   "outputs": [],
   "source": [
    "# using 2 pointers \n",
    "# O(n)\n",
    "# drawback is you have to create a new array to store the result \n",
    "# we have to use recurssion\n",
    "\n",
    "def merge(A, B) : \n",
    "    a_len, b_len = len(A), len(B)\n",
    "\n",
    "    output, a_pointer, b_pointer, output_pointer = [], 0, 0, 0\n",
    "    while output_pointer < a_len + b_len : \n",
    "\n",
    "        # jumps \n",
    "        if a_pointer == a_len : \n",
    "            output.extend(B[b_pointer:])\n",
    "            output_pointer += b_len - b_pointer\n",
    "\n",
    "        elif b_pointer == b_len : \n",
    "            output.extend(A[a_pointer:])\n",
    "            output_pointer += a_len - a_pointer\n",
    "\n",
    "        # one at a time \n",
    "        elif A[a_pointer] < B[b_pointer] : \n",
    "            output.append(A[a_pointer])\n",
    "            a_pointer, output_pointer = a_pointer + 1, output_pointer + 1\n",
    "        \n",
    "        else : \n",
    "            output.append(B[b_pointer])\n",
    "            b_pointer, output_pointer = b_pointer + 1, output_pointer + 1\n",
    "\n",
    "    return output\n",
    "    \n",
    "# O(nlogn)\n",
    "def mergeSort(arr) : \n",
    "    n = len(arr) \n",
    "    if n <=1 : \n",
    "        return arr \n",
    "\n",
    "    left = mergeSort(arr[:n//2])\n",
    "    right = mergeSort(arr[n//2:])\n",
    "\n",
    "    B = merge(left, right)\n",
    "\n",
    "    return B "
   ]
  },
  {
   "cell_type": "code",
   "execution_count": 30,
   "metadata": {},
   "outputs": [
    {
     "data": {
      "text/plain": [
       "[0, 1, 2, 2, 3, 4, 5]"
      ]
     },
     "execution_count": 30,
     "metadata": {},
     "output_type": "execute_result"
    }
   ],
   "source": [
    "mergeSort([5,1, 2, 4, 2, 3, 0])"
   ]
  },
  {
   "cell_type": "code",
   "execution_count": 34,
   "metadata": {},
   "outputs": [
    {
     "name": "stdout",
     "output_type": "stream",
     "text": [
      "random  time taken -->  0.3064717000006567\n",
      "asc  time taken -->  0.17086100000051374\n",
      "desc  time taken -->  0.2601449000003413\n"
     ]
    }
   ],
   "source": [
    "import random \n",
    "\n",
    "random.seed(2021)\n",
    "\n",
    "inputLists = {}\n",
    "\n",
    "inputLists['random'] = [random.randrange(100000) for i in range(50000)]\n",
    "inputLists['asc'] = [i for i in range(50000)]\n",
    "inputLists['desc'] = [i for i in range(49999, -1, -1)]\n",
    "\n",
    "t = Timer()\n",
    "for k in inputLists.keys() : \n",
    "    tmplist = inputLists[k][:]\n",
    "    t.start()\n",
    "    mergeSort(tmplist)\n",
    "    t.stop()\n",
    "    print(k, ' time taken --> ', t) \n",
    "\n",
    "# works significantly faster \n"
   ]
  },
  {
   "cell_type": "code",
   "execution_count": null,
   "metadata": {},
   "outputs": [],
   "source": []
  }
 ],
 "metadata": {
  "kernelspec": {
   "display_name": "Python 3",
   "language": "python",
   "name": "python3"
  },
  "language_info": {
   "codemirror_mode": {
    "name": "ipython",
    "version": 3
   },
   "file_extension": ".py",
   "mimetype": "text/x-python",
   "name": "python",
   "nbconvert_exporter": "python",
   "pygments_lexer": "ipython3",
   "version": "3.7.9"
  },
  "orig_nbformat": 4
 },
 "nbformat": 4,
 "nbformat_minor": 2
}
