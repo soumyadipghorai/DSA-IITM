{
 "cells": [
  {
   "cell_type": "code",
   "execution_count": 2,
   "metadata": {},
   "outputs": [],
   "source": [
    "import numpy as np"
   ]
  },
  {
   "cell_type": "code",
   "execution_count": 10,
   "metadata": {},
   "outputs": [
    {
     "name": "stdout",
     "output_type": "stream",
     "text": [
      "(3, 2, 3)\n",
      "5\n"
     ]
    }
   ],
   "source": [
    "a = np.array([[(0, 0, 0), (1, 5, 1)], [(1, 1, 1), (0, 0, 0)], [(1, 1, 1), (1, 0, 0)]])\n",
    "print(a.shape)\n",
    "print(np.max(a))"
   ]
  },
  {
   "cell_type": "code",
   "execution_count": 11,
   "metadata": {},
   "outputs": [],
   "source": [
    "def dijkstra(WMat, s): \n",
    "    rows, colr, x = WMat.shape \n",
    "\n",
    "    # initialize to infinity\n",
    "    # maxvalue in the matrix * the max distance + 1 \n",
    "    infinity = np.max(WMat)*rows + 1\n",
    "\n",
    "    # set visited to false and distance to infinity\n",
    "    visited, distance = {}, {}\n",
    "    for v in range(rows) :\n",
    "        visited[v], distance[v] = False, infinity\n",
    "\n",
    "    # initialize the start point at 0\n",
    "    distance[s] = 0\n",
    "    for u in range(rows) : \n",
    "        # in the 1st step it will only visit the root node as that has the min distance to 0\n",
    "        # in later steps it \n",
    "        nextDistance = min([distance[v] for v in range(rows) \n",
    "                        if not visited[v]])\n",
    "\n",
    "        # find the vertex list for which distance is minimum and vertex is not visited \n",
    "        nextVertexList = [v for v in range(rows) \n",
    "                        if (not visited[v]) and distance[v] == nextDistance]\n",
    "\n",
    "        # if everything is visited then break \n",
    "        if nextVertexList == [] : \n",
    "            break \n",
    "\n",
    "        # choose the smallest vertex among all the min distance vertex \n",
    "        nextVertex = min(nextVertexList)\n",
    "        visited[nextVertex] = True \n",
    "        for v in range(cols) : \n",
    "            # WMat[nextVertex, v, 0] == 1 ==> there is an edge b/w 2 nodes and its not already visited \n",
    "            if WMat[nextVertex, v, 0] == 1 and (not visited[v]) : \n",
    "                \n",
    "                # new distance = min(infinity, to that node via the current node)\n",
    "                # WMat[nextVertex, v, 1] = weight \n",
    "                distance[v] = min(distance[v], distance[nextVertex] + WMat[nextVertex, v, 1])\n",
    "\n",
    "        return distance\n",
    "\n",
    "\n",
    "# O(n^2)"
   ]
  },
  {
   "cell_type": "code",
   "execution_count": 2,
   "metadata": {},
   "outputs": [],
   "source": [
    "def dijkstraList(WList, s) : \n",
    "    infinity = 1 + len(WList.keys())* max([d for u in WList.keys() \n",
    "                                            for (v,d) in WList[u]]))\n",
    "\n",
    "    visited, distance = {}, {}\n",
    "    for v in WList.keys() : \n",
    "        visited[v], distance[v] = False, infinity\n",
    "\n",
    "    distance[s] = 0 \n",
    "    for u in WList.keys():\n",
    "        nextd = min([distance[v] for v in WList.keys() if not visited[v]])\n",
    "\n",
    "        nextvlist = [v for v in WList.keys() if (not visited[v]) and distance[v] == nextd]\n",
    "\n",
    "        if nextvlist == []: \n",
    "            break \n",
    "\n",
    "        nextv = min(nextvlist)\n",
    "        visited[nextv] = True \n",
    "        for v, d in WList[nextv] : \n",
    "            if not visited[v] : \n",
    "                distance[v] = min(distance[v], distance[nextv])\n",
    "\n",
    "    return distance\n",
    "\n",
    "# O(n^2) "
   ]
  },
  {
   "cell_type": "code",
   "execution_count": 3,
   "metadata": {},
   "outputs": [],
   "source": [
    "def bellmanford(WMat, s): \n",
    "    rows, cols, x = WMat.shape \n",
    "    infinity = np.max(WMat)*rows+1 \n",
    "    distance = {}\n",
    "\n",
    "    # initialize all the distance to infinity and source -> 0\n",
    "    for v in range(rows): \n",
    "        distance[v] = infinity \n",
    "    distance[s] = 0 \n",
    " \n",
    "    # n-1 \n",
    "    for i in range(rows): \n",
    "        # for every vertex u, v if u<->v is an edge then update the distance\n",
    "        for u in range(rows) : \n",
    "            for v in range(cols): \n",
    "                if WMat[u, v, 0] == 1:\n",
    "                    distance[v] = min(distance[v], distance[u] + WMat[u, v, 1])\n",
    "    \n",
    "     # if there is no -ve cycle it would converge \n",
    "    return distance\n",
    "\n",
    "# O(n^3)"
   ]
  },
  {
   "cell_type": "code",
   "execution_count": 4,
   "metadata": {},
   "outputs": [],
   "source": [
    "def bellmanfordList(WList, s) : \n",
    "    infinity = 1 + len(WList.keys())* max([d for u in WList.keys() \n",
    "                                            for (v,d) in WList[u]])\n",
    "\n",
    "    distance = {}\n",
    "    for v in WList.keys() : \n",
    "        distance[v] = infinity\n",
    "\n",
    "    distance[s] = 0  \n",
    "\n",
    "    for i in WList.keys(): \n",
    "        for u in WList.keys(): \n",
    "            for v,d in WList[u]: \n",
    "                distance[v] = min(distance[v], distance[u]+d)\n",
    "\n",
    "    return distance\n",
    "\n",
    "# O(mn) --> m <= n^2\n",
    "\n",
    "# if the algo doesn't converge after n-1 itr there is a -ve cycle "
   ]
  },
  {
   "cell_type": "code",
   "execution_count": 2,
   "metadata": {},
   "outputs": [],
   "source": [
    "def floydwarshall(WMat): \n",
    "    rows, cols, x = WMat.shape \n",
    "    infinity = np.max(WMat)*rows*rows + 1 \n",
    "\n",
    "    sp = np.zeros(shape = (rows, cols, cols + 1))\n",
    "    for i in range(rows) : \n",
    "        for j in range(cols) : \n",
    "            sp[i, j, 0] = infinity\n",
    "\n",
    "    for i in range(rows) : \n",
    "        for j in range(cols) : \n",
    "            if WMat[i, j, 0] == 1: \n",
    "                sp[i, j, 0] = WMat[i, j, 1] \n",
    "\n",
    "    for k in range(1, cols+1): \n",
    "        for i in range(rows): \n",
    "            for j in range(cols): \n",
    "                sp[i, j, k] = min(sp[i, j, k-1], sp[i, k-1, k-1] + sp[k-1, j, k-1])\n",
    "                \n",
    "    return sp[:, :, cols]"
   ]
  },
  {
   "cell_type": "code",
   "execution_count": null,
   "metadata": {},
   "outputs": [],
   "source": []
  }
 ],
 "metadata": {
  "kernelspec": {
   "display_name": "Python 3",
   "language": "python",
   "name": "python3"
  },
  "language_info": {
   "codemirror_mode": {
    "name": "ipython",
    "version": 3
   },
   "file_extension": ".py",
   "mimetype": "text/x-python",
   "name": "python",
   "nbconvert_exporter": "python",
   "pygments_lexer": "ipython3",
   "version": "3.10.7"
  },
  "orig_nbformat": 4
 },
 "nbformat": 4,
 "nbformat_minor": 2
}
