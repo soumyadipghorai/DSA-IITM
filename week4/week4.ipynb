{
 "cells": [
  {
   "attachments": {},
   "cell_type": "markdown",
   "metadata": {},
   "source": [
    "### Graph \n",
    "Teachers and courses <br>\n",
    "T -> teacher; C-> courses <br>\n",
    "A = {(t, c) | (t,c) belongs to T*C, t teaches c } <br>\n",
    "directed --> only teacher can teach \n",
    "\n",
    "Friends\n",
    "F = {(p, q) | p, q belongs to P(people) p != q; p is a friend of q}<br>\n",
    "undirected -> p friend of q => q firend of p \n",
    "\n",
    "**graph** -> G = (V, E) <br>\n",
    "V -> vertices/ nodes; E -> edges <br>\n",
    "usually we consider that a vertex is not connected to itself, irreflexive \n",
    "\n",
    "**path ->** sequence of vertices connected by edges; normally path doesn't visit a vertex twice <br>\n",
    "**walk ->** a sequence that revisits a vertex is usually called walk <br>\n",
    "\n",
    "**Map coloring**<br>\n",
    "seperating neighbouring states with diff color <br>\n",
    "how many colors do we need \n",
    "\n",
    "**planar graph ->** edges don't cross each other <br>\n",
    "maps are typically planar graphs. for planar graphs you can always color them with 4 colors (four color theorem)\n",
    "\n",
    " "
   ]
  },
  {
   "cell_type": "code",
   "execution_count": null,
   "metadata": {},
   "outputs": [],
   "source": []
  }
 ],
 "metadata": {
  "language_info": {
   "name": "python"
  },
  "orig_nbformat": 4
 },
 "nbformat": 4,
 "nbformat_minor": 2
}
