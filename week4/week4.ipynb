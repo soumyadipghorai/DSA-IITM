{
 "cells": [
  {
   "attachments": {},
   "cell_type": "markdown",
   "metadata": {},
   "source": [
    "### Graph \n",
    "Teachers and courses <br>\n",
    "T -> teacher; C-> courses <br>\n",
    "A = {(t, c) | (t,c) belongs to T*C, t teaches c } <br>\n",
    "directed --> only teacher can teach \n",
    "\n",
    "Friends\n",
    "F = {(p, q) | p, q belongs to P(people) p != q; p is a friend of q}<br>\n",
    "undirected -> p friend of q => q firend of p \n",
    "\n",
    "**graph** -> G = (V, E) <br>\n",
    "V -> vertices/ nodes; E -> edges <br>\n",
    "usually we consider that a vertex is not connected to itself, irreflexive \n",
    "\n",
    "**path ->** sequence of vertices connected by edges; normally path doesn't visit a vertex twice <br>\n",
    "**walk ->** a sequence that revisits a vertex is usually called walk <br>\n",
    "\n",
    "**Map coloring**<br>\n",
    "seperating neighbouring states with diff color <br>\n",
    "how many colors do we need \n",
    "\n",
    "**planar graph ->** edges don't cross each other <br>\n",
    "maps are typically planar graphs. for planar graphs you can always color them with 4 colors (four color theorem)\n",
    "\n",
    " "
   ]
  },
  {
   "cell_type": "code",
   "execution_count": 2,
   "metadata": {},
   "outputs": [
    {
     "data": {
      "text/plain": [
       "array([[0., 1., 0., 0., 1., 0., 0., 0., 0., 0.],\n",
       "       [0., 0., 1., 0., 0., 0., 0., 0., 0., 0.],\n",
       "       [1., 0., 0., 0., 0., 0., 0., 0., 0., 0.],\n",
       "       [0., 0., 0., 0., 1., 0., 1., 0., 0., 0.],\n",
       "       [1., 0., 0., 1., 0., 0., 0., 1., 0., 0.],\n",
       "       [0., 0., 0., 1., 0., 0., 0., 1., 0., 0.],\n",
       "       [0., 0., 0., 0., 0., 1., 0., 0., 0., 0.],\n",
       "       [0., 0., 0., 0., 1., 0., 0., 0., 1., 0.],\n",
       "       [0., 0., 0., 0., 0., 1., 0., 0., 0., 1.],\n",
       "       [0., 0., 0., 0., 0., 0., 0., 0., 1., 0.]])"
      ]
     },
     "execution_count": 2,
     "metadata": {},
     "output_type": "execute_result"
    }
   ],
   "source": [
    "import numpy as np \n",
    "\n",
    "edges = [\n",
    "    (0, 1), (0, 4), (1, 2), (2, 0), \n",
    "    (3, 4), (3, 6), (4, 0), (4, 3), \n",
    "    (4, 7), (5, 3), (5, 7), (6, 5), \n",
    "    (7, 4), (7, 8), (8, 5), (8, 9), (9, 8)\n",
    "]\n",
    "\n",
    "A = np.zeros(shape = (10, 10))\n",
    "\n",
    "for i, j in edges : \n",
    "    A[i, j] = 1\n",
    "\n",
    "A\n",
    "\n",
    "# undirected "
   ]
  },
  {
   "cell_type": "code",
   "execution_count": 3,
   "metadata": {},
   "outputs": [
    {
     "data": {
      "text/plain": [
       "[4, 8]"
      ]
     },
     "execution_count": 3,
     "metadata": {},
     "output_type": "execute_result"
    }
   ],
   "source": [
    "def neighbours(AMat, i) : \n",
    "    nbrs = []\n",
    "    rows, cols = AMat.shape\n",
    "\n",
    "    for j in range(cols) : \n",
    "        if AMat[i, j] == 1 : \n",
    "            nbrs.append(j)\n",
    "\n",
    "    return nbrs\n",
    "\n",
    "neighbours(A, 7)"
   ]
  },
  {
   "attachments": {},
   "cell_type": "markdown",
   "metadata": {},
   "source": [
    "for directed graphs <br>\n",
    "the rows represent outgoing edges <br>\n",
    "the cols represent incoming edges\n",
    "\n",
    "Degree of a vertex i = number of edges incident on i => how many edges are connteced to the vertex. undirected \n",
    "\n",
    "for directed its indegree = 1, outdegree = 1"
   ]
  },
  {
   "cell_type": "code",
   "execution_count": 4,
   "metadata": {},
   "outputs": [
    {
     "data": {
      "text/plain": [
       "{0: [1, 4],\n",
       " 1: [2],\n",
       " 2: [0],\n",
       " 3: [4, 6],\n",
       " 4: [0, 3, 7],\n",
       " 5: [3, 7],\n",
       " 6: [5],\n",
       " 7: [4, 8],\n",
       " 8: [5, 9],\n",
       " 9: [8]}"
      ]
     },
     "execution_count": 4,
     "metadata": {},
     "output_type": "execute_result"
    }
   ],
   "source": [
    "AList = {}\n",
    "\n",
    "for i in range(10) : \n",
    "    AList[i] = []\n",
    "\n",
    "for (i, j) in edges : \n",
    "    AList[i].append(j)\n",
    "\n",
    "AList\n",
    "\n",
    "# this requires less space \n",
    "# checking for connection takes more time in adjacency list than matrix\n",
    "# add togethere all the nbrs then list representation is better "
   ]
  },
  {
   "attachments": {},
   "cell_type": "markdown",
   "metadata": {},
   "source": [
    "### BFS\n",
    "\n",
    "we visit level by level "
   ]
  },
  {
   "cell_type": "code",
   "execution_count": 5,
   "metadata": {},
   "outputs": [],
   "source": [
    "class Queue: \n",
    "    def __init__(self) :\n",
    "        self.queue = []\n",
    "\n",
    "    def addq(self, v) : \n",
    "        self.queue.append(v)\n",
    "\n",
    "    def delq(self) : \n",
    "        v = None\n",
    "        if not self.isEmpty() : \n",
    "            v = self.queue[0]\n",
    "            self.queue = self.queue[1:]\n",
    "        return v \n",
    "\n",
    "    def isEmpty(self) : \n",
    "        return self.queue == []\n",
    "\n",
    "    def __str__(self) : \n",
    "        return str(self.queue)"
   ]
  },
  {
   "cell_type": "code",
   "execution_count": 6,
   "metadata": {},
   "outputs": [
    {
     "name": "stdout",
     "output_type": "stream",
     "text": [
      "[0]\n",
      "[0, 1]\n",
      "[0, 1, 2]\n",
      "False\n",
      "0 [1, 2]\n",
      "1 [2]\n",
      "2 []\n",
      "True\n"
     ]
    }
   ],
   "source": [
    "q = Queue()\n",
    "\n",
    "for i in range(3) : \n",
    "    q.addq(i)\n",
    "    print(q)\n",
    "print(q.isEmpty())\n",
    "\n",
    "for j in range(3) : \n",
    "    print(q.delq(), q)\n",
    "\n",
    "print(q.isEmpty())"
   ]
  },
  {
   "cell_type": "code",
   "execution_count": 7,
   "metadata": {},
   "outputs": [
    {
     "name": "stdout",
     "output_type": "stream",
     "text": [
      "{0: False, 1: False, 2: False, 3: False, 4: False, 5: False, 6: False, 7: True, 8: False, 9: False}\n",
      "[7]\n",
      "7 [] [4, 8]\n",
      "4 [8] [8, 0, 3]\n",
      "8 [0, 3] [0, 3, 5, 9]\n",
      "0 [3, 5, 9] [3, 5, 9, 1]\n",
      "3 [5, 9, 1] [5, 9, 1, 6]\n",
      "5 [9, 1, 6] [9, 1, 6]\n",
      "9 [1, 6] [1, 6]\n",
      "1 [6] [6, 2]\n",
      "6 [2] [2]\n",
      "2 [] []\n"
     ]
    },
    {
     "data": {
      "text/plain": [
       "{0: True,\n",
       " 1: True,\n",
       " 2: True,\n",
       " 3: True,\n",
       " 4: True,\n",
       " 5: True,\n",
       " 6: True,\n",
       " 7: True,\n",
       " 8: True,\n",
       " 9: True}"
      ]
     },
     "execution_count": 7,
     "metadata": {},
     "output_type": "execute_result"
    }
   ],
   "source": [
    "def BFS(AMat, v) : \n",
    "    \"\"\" \n",
    "    AMat: adjacency matrix\n",
    "    v: starting vertex \n",
    "    \"\"\"\n",
    "    rows, cols = AMat.shape \n",
    "    visited = {}\n",
    "\n",
    "    for i in range(rows) : \n",
    "        visited[i] = False\n",
    "    q = Queue()\n",
    "\n",
    "    visited[v] = True \n",
    "    print(visited)\n",
    "\n",
    "    q.addq(v)\n",
    "    print(q)\n",
    "\n",
    "    while not q.isEmpty() : \n",
    "        j = q.delq()\n",
    "        print(j, q, end = ' ')\n",
    "        for k in neighbours(AMat, j) : \n",
    "            if not visited[k] : \n",
    "                visited[k] = True \n",
    "                q.addq(k)\n",
    "        print(q)\n",
    "        \n",
    "    return visited\n",
    "\n",
    "BFS(A, 7)"
   ]
  },
  {
   "attachments": {},
   "cell_type": "markdown",
   "metadata": {},
   "source": [
    "O(n^2) --> matrix <br>\n",
    "O(n+m) --> list"
   ]
  },
  {
   "cell_type": "code",
   "execution_count": 9,
   "metadata": {},
   "outputs": [
    {
     "data": {
      "text/plain": [
       "({0: True,\n",
       "  1: True,\n",
       "  2: True,\n",
       "  3: True,\n",
       "  4: True,\n",
       "  5: True,\n",
       "  6: True,\n",
       "  7: True,\n",
       "  8: True,\n",
       "  9: True},\n",
       " {0: 4, 1: 0, 2: 1, 3: 4, 4: 7, 5: 8, 6: 3, 7: -1, 8: 7, 9: 8})"
      ]
     },
     "execution_count": 9,
     "metadata": {},
     "output_type": "execute_result"
    }
   ],
   "source": [
    "def BSListPath(AList, v) : \n",
    "    visited, parent = {}, {}\n",
    "\n",
    "    for i in AList.keys() : \n",
    "        visited[i] = False \n",
    "        parent[i] = -1 \n",
    "\n",
    "    q = Queue()\n",
    "\n",
    "    visited[v] = True\n",
    "    q.addq(v)\n",
    "\n",
    "    while not q.isEmpty() : \n",
    "        j = q.delq()\n",
    "        for k in AList[j] : \n",
    "            if not visited[k] : \n",
    "                visited[k] = True \n",
    "                parent[k] = j \n",
    "                q.addq(k)\n",
    "\n",
    "    return visited, parent\n",
    "\n",
    "BSListPath(AList, 7)"
   ]
  },
  {
   "cell_type": "code",
   "execution_count": 11,
   "metadata": {},
   "outputs": [
    {
     "data": {
      "text/plain": [
       "({0: 2, 1: 3, 2: 4, 3: 2, 4: 1, 5: 2, 6: 3, 7: 0, 8: 1, 9: 2},\n",
       " {0: 4, 1: 0, 2: 1, 3: 4, 4: 7, 5: 8, 6: 3, 7: -1, 8: 7, 9: 8})"
      ]
     },
     "execution_count": 11,
     "metadata": {},
     "output_type": "execute_result"
    }
   ],
   "source": [
    "def BFSListPathLevel(AList, v) : \n",
    "    level, parent = {}, {}\n",
    "\n",
    "    for i in AList.keys() : \n",
    "        level[i] = -1 \n",
    "        parent[i] = -1 \n",
    "\n",
    "    q = Queue()\n",
    "\n",
    "    level[v] = 0 \n",
    "    q.addq(v)\n",
    "\n",
    "    while not q.isEmpty() :\n",
    "        j = q.delq()\n",
    "        for k in AList[j] :\n",
    "            if level[k] == -1 : \n",
    "                level[k] = level[j] + 1\n",
    "                parent[k] = j \n",
    "                q.addq(k)\n",
    "\n",
    "    return level, parent\n",
    "\n",
    "BFSListPathLevel(AList, 7)"
   ]
  },
  {
   "cell_type": "markdown",
   "metadata": {},
   "source": [
    "### DFS "
   ]
  },
  {
   "cell_type": "markdown",
   "metadata": {},
   "source": [
    "#### Matrix "
   ]
  },
  {
   "cell_type": "code",
   "execution_count": 12,
   "metadata": {},
   "outputs": [],
   "source": [
    "def DFSInit(AMat) : \n",
    "    rows, cols = AMat.shape\n",
    "    visited, parent = {}, {}\n",
    "\n",
    "    for i in range(rows) : \n",
    "        visited[i] = False \n",
    "        parent[i] = -1 \n",
    "    \n",
    "    return visited, parent\n",
    "\n",
    "def DFS(AMat, visited, parent, v) : \n",
    "    visited[v] = True \n",
    "\n",
    "    for k in neighbours(AMat, v) : \n",
    "        if not visited[k] : \n",
    "            parent[k] = v\n",
    "            visited, parent = DFS(AMat, visited, parent, k)\n",
    "\n",
    "    return visited, parent "
   ]
  },
  {
   "cell_type": "code",
   "execution_count": 13,
   "metadata": {},
   "outputs": [],
   "source": [
    "visited, parent = {}, {}\n",
    "\n",
    "def DFSInitGlobal(AMat) : \n",
    "    rows, cols = AMat.shape \n",
    "    \n",
    "    for i in range(rows) : \n",
    "        visited[i] = False \n",
    "        parent[i] = -1 \n",
    "    \n",
    "    return \n",
    "\n",
    "def DFSGlobal(AMat, v) : \n",
    "    visited[v] = True \n",
    "\n",
    "    for k in neighbours(AMat, v) : \n",
    "        if not visited[k] : \n",
    "            parent[k] = v \n",
    "            DFSGlobal(AMat, k)\n",
    "\n",
    "    return "
   ]
  },
  {
   "cell_type": "markdown",
   "metadata": {},
   "source": [
    "#### List"
   ]
  },
  {
   "cell_type": "code",
   "execution_count": 14,
   "metadata": {},
   "outputs": [],
   "source": [
    "def DFSInitList(AList) : \n",
    "    visited, parent = {}, {}\n",
    "\n",
    "    for i in AList.keys() : \n",
    "        visited[i] = False \n",
    "        parent[i] = -1 \n",
    "    \n",
    "    return visited, parent\n",
    "\n",
    "def DFSList(AList, visited, parent, v) : \n",
    "    visited[v] = True \n",
    "\n",
    "    for k in AList[v] : \n",
    "        if not visited[k] : \n",
    "            parent[k] = v\n",
    "            visited, parent = DFSList(AList, visited, parent, k)\n",
    "\n",
    "    return visited, parent "
   ]
  },
  {
   "cell_type": "code",
   "execution_count": 15,
   "metadata": {},
   "outputs": [],
   "source": [
    "visited, parent = {}, {}\n",
    "\n",
    "def DFSInitListGlobal(AList) :\n",
    "    for i in AList.keys() : \n",
    "        visited[i] = False \n",
    "        parent[i] = -1 \n",
    "    return \n",
    "\n",
    "def DFSListGlobal(AList, v) : \n",
    "    visited[v] = True \n",
    "\n",
    "    for k in AList[v] : \n",
    "        if not visited[k] : \n",
    "            parent[k] = v \n",
    "            DFSListGlobal(AList, k)\n",
    "\n",
    "    return \n",
    "\n",
    "# generally we use this for large dicts "
   ]
  },
  {
   "cell_type": "code",
   "execution_count": null,
   "metadata": {},
   "outputs": [],
   "source": []
  }
 ],
 "metadata": {
  "kernelspec": {
   "display_name": "Python 3",
   "language": "python",
   "name": "python3"
  },
  "language_info": {
   "codemirror_mode": {
    "name": "ipython",
    "version": 3
   },
   "file_extension": ".py",
   "mimetype": "text/x-python",
   "name": "python",
   "nbconvert_exporter": "python",
   "pygments_lexer": "ipython3",
   "version": "3.10.7"
  },
  "orig_nbformat": 4
 },
 "nbformat": 4,
 "nbformat_minor": 2
}
