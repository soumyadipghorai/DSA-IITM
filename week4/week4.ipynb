{
 "cells": [
  {
   "attachments": {},
   "cell_type": "markdown",
   "metadata": {},
   "source": [
    "### Graph \n",
    "Teachers and courses <br>\n",
    "T -> teacher; C-> courses <br>\n",
    "A = {(t, c) | (t,c) belongs to T*C, t teaches c } <br>\n",
    "directed --> only teacher can teach \n",
    "\n",
    "Friends\n",
    "F = {(p, q) | p, q belongs to P(people) p != q; p is a friend of q}<br>\n",
    "undirected -> p friend of q => q firend of p \n",
    "\n",
    "**graph** -> G = (V, E) <br>\n",
    "V -> vertices/ nodes; E -> edges <br>\n",
    "usually we consider that a vertex is not connected to itself, irreflexive \n",
    "\n",
    "**path ->** sequence of vertices connected by edges; normally path doesn't visit a vertex twice <br>\n",
    "**walk ->** a sequence that revisits a vertex is usually called walk <br>\n",
    "\n",
    "**Map coloring**<br>\n",
    "seperating neighbouring states with diff color <br>\n",
    "how many colors do we need \n",
    "\n",
    "**planar graph ->** edges don't cross each other <br>\n",
    "maps are typically planar graphs. for planar graphs you can always color them with 4 colors (four color theorem)\n",
    "\n",
    " "
   ]
  },
  {
   "cell_type": "code",
   "execution_count": 2,
   "metadata": {},
   "outputs": [
    {
     "data": {
      "text/plain": [
       "array([[0., 1., 0., 0., 1., 0., 0., 0., 0., 0.],\n",
       "       [0., 0., 1., 0., 0., 0., 0., 0., 0., 0.],\n",
       "       [1., 0., 0., 0., 0., 0., 0., 0., 0., 0.],\n",
       "       [0., 0., 0., 0., 1., 0., 1., 0., 0., 0.],\n",
       "       [1., 0., 0., 1., 0., 0., 0., 1., 0., 0.],\n",
       "       [0., 0., 0., 1., 0., 0., 0., 1., 0., 0.],\n",
       "       [0., 0., 0., 0., 0., 1., 0., 0., 0., 0.],\n",
       "       [0., 0., 0., 0., 1., 0., 0., 0., 1., 0.],\n",
       "       [0., 0., 0., 0., 0., 1., 0., 0., 0., 1.],\n",
       "       [0., 0., 0., 0., 0., 0., 0., 0., 1., 0.]])"
      ]
     },
     "execution_count": 2,
     "metadata": {},
     "output_type": "execute_result"
    }
   ],
   "source": [
    "import numpy as np \n",
    "\n",
    "edges = [\n",
    "    (0, 1), (0, 4), (1, 2), (2, 0), \n",
    "    (3, 4), (3, 6), (4, 0), (4, 3), \n",
    "    (4, 7), (5, 3), (5, 7), (6, 5), \n",
    "    (7, 4), (7, 8), (8, 5), (8, 9), (9, 8)\n",
    "]\n",
    "\n",
    "A = np.zeros(shape = (10, 10))\n",
    "\n",
    "for i, j in edges : \n",
    "    A[i, j] = 1\n",
    "\n",
    "A\n",
    "\n",
    "# undirected "
   ]
  },
  {
   "cell_type": "code",
   "execution_count": 5,
   "metadata": {},
   "outputs": [
    {
     "data": {
      "text/plain": [
       "[4, 8]"
      ]
     },
     "execution_count": 5,
     "metadata": {},
     "output_type": "execute_result"
    }
   ],
   "source": [
    "def neighbours(AMat, i) : \n",
    "    nbrs = []\n",
    "    rows, cols = AMat.shape\n",
    "\n",
    "    for j in range(cols) : \n",
    "        if AMat[i, j] == 1 : \n",
    "            nbrs.append(j)\n",
    "\n",
    "    return nbrs\n",
    "\n",
    "neighbours(A, 7)"
   ]
  },
  {
   "attachments": {},
   "cell_type": "markdown",
   "metadata": {},
   "source": [
    "for directed graphs <br>\n",
    "the rows represent outgoing edges <br>\n",
    "the cols represent incoming edges\n",
    "\n",
    "Degree of a vertex i = number of edges incident on i => how many edges are connteced to the vertex. undirected \n",
    "\n",
    "for directed its indegree = 1, outdegree = 1"
   ]
  },
  {
   "cell_type": "code",
   "execution_count": 8,
   "metadata": {},
   "outputs": [
    {
     "data": {
      "text/plain": [
       "{0: [1, 4],\n",
       " 1: [2],\n",
       " 2: [0],\n",
       " 3: [4, 6],\n",
       " 4: [0, 3, 7],\n",
       " 5: [3, 7],\n",
       " 6: [5],\n",
       " 7: [4, 8],\n",
       " 8: [5, 9],\n",
       " 9: [8]}"
      ]
     },
     "execution_count": 8,
     "metadata": {},
     "output_type": "execute_result"
    }
   ],
   "source": [
    "AList = {}\n",
    "\n",
    "for i in range(10) : \n",
    "    AList[i] = []\n",
    "\n",
    "for (i, j) in edges : \n",
    "    AList[i].append(j)\n",
    "\n",
    "AList\n",
    "\n",
    "# this requires less space \n",
    "# checking for connection takes more time in adjacency list than matrix\n",
    "# add togethere all the nbrs then list representation is better "
   ]
  },
  {
   "cell_type": "code",
   "execution_count": null,
   "metadata": {},
   "outputs": [],
   "source": []
  }
 ],
 "metadata": {
  "kernelspec": {
   "display_name": "Python 3",
   "language": "python",
   "name": "python3"
  },
  "language_info": {
   "codemirror_mode": {
    "name": "ipython",
    "version": 3
   },
   "file_extension": ".py",
   "mimetype": "text/x-python",
   "name": "python",
   "nbconvert_exporter": "python",
   "pygments_lexer": "ipython3",
   "version": "3.10.7"
  },
  "orig_nbformat": 4
 },
 "nbformat": 4,
 "nbformat_minor": 2
}
