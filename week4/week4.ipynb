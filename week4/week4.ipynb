{
 "cells": [
  {
   "attachments": {},
   "cell_type": "markdown",
   "metadata": {},
   "source": [
    "### Graph \n",
    "Teachers and courses <br>\n",
    "T -> teacher; C-> courses <br>\n",
    "A = {(t, c) | (t,c) belongs to T*C, t teaches c } <br>\n",
    "directed --> only teacher can teach \n",
    "\n",
    "Friends\n",
    "F = {(p, q) | p, q belongs to P(people) p != q; p is a friend of q}<br>\n",
    "undirected -> p friend of q => q firend of p \n",
    "\n",
    "**graph** -> G = (V, E) <br>\n",
    "V -> vertices/ nodes; E -> edges <br>\n",
    "usually we consider that a vertex is not connected to itself, irreflexive \n",
    "\n",
    "**path ->** sequence of vertices connected by edges; normally path doesn't visit a vertex twice <br>\n",
    "**walk ->** a sequence that revisits a vertex is usually called walk <br>\n",
    "\n",
    "**Map coloring**<br>\n",
    "seperating neighbouring states with diff color <br>\n",
    "how many colors do we need \n",
    "\n",
    "**planar graph ->** edges don't cross each other <br>\n",
    "maps are typically planar graphs. for planar graphs you can always color them with 4 colors (four color theorem)\n",
    "\n",
    " "
   ]
  },
  {
   "cell_type": "code",
   "execution_count": 37,
   "metadata": {},
   "outputs": [
    {
     "data": {
      "text/plain": [
       "array([[0., 1., 0., 0., 1., 0., 0., 0., 0., 0.],\n",
       "       [0., 0., 1., 0., 0., 0., 0., 0., 0., 0.],\n",
       "       [1., 0., 0., 0., 0., 0., 0., 0., 0., 0.],\n",
       "       [0., 0., 0., 0., 1., 0., 1., 0., 0., 0.],\n",
       "       [1., 0., 0., 1., 0., 0., 0., 1., 0., 0.],\n",
       "       [0., 0., 0., 1., 0., 0., 0., 1., 0., 0.],\n",
       "       [0., 0., 0., 0., 0., 1., 0., 0., 0., 0.],\n",
       "       [0., 0., 0., 0., 1., 0., 0., 0., 1., 0.],\n",
       "       [0., 0., 0., 0., 0., 1., 0., 0., 0., 1.],\n",
       "       [0., 0., 0., 0., 0., 0., 0., 0., 1., 0.]])"
      ]
     },
     "execution_count": 37,
     "metadata": {},
     "output_type": "execute_result"
    }
   ],
   "source": [
    "import numpy as np \n",
    "\n",
    "edges = [\n",
    "    (0, 1), (0, 4), (1, 2), (2, 0), \n",
    "    (3, 4), (3, 6), (4, 0), (4, 3), \n",
    "    (4, 7), (5, 3), (5, 7), (6, 5), \n",
    "    (7, 4), (7, 8), (8, 5), (8, 9), (9, 8)\n",
    "]\n",
    "\n",
    "A = np.zeros(shape = (10, 10))\n",
    "\n",
    "for i, j in edges : \n",
    "    A[i, j] = 1\n",
    "\n",
    "A\n",
    "\n",
    "# undirected "
   ]
  },
  {
   "cell_type": "code",
   "execution_count": 38,
   "metadata": {},
   "outputs": [
    {
     "data": {
      "text/plain": [
       "[4, 8]"
      ]
     },
     "execution_count": 38,
     "metadata": {},
     "output_type": "execute_result"
    }
   ],
   "source": [
    "# neighbours of i \n",
    "def neighbours(AMat, i) : \n",
    "    nbrs = []\n",
    "    rows, cols = AMat.shape\n",
    "\n",
    "    for j in range(cols) : \n",
    "        if AMat[i, j] == 1 : \n",
    "            nbrs.append(j)\n",
    "\n",
    "    return nbrs\n",
    "\n",
    "neighbours(A, 7)"
   ]
  },
  {
   "attachments": {},
   "cell_type": "markdown",
   "metadata": {},
   "source": [
    "for directed graphs <br>\n",
    "the rows represent outgoing edges <br>\n",
    "the cols represent incoming edges\n",
    "\n",
    "Degree of a vertex i = number of edges incident on i => how many edges are connteced to the vertex. undirected \n",
    "\n",
    "for directed its indegree = 1, outdegree = 1"
   ]
  },
  {
   "cell_type": "code",
   "execution_count": 39,
   "metadata": {},
   "outputs": [
    {
     "data": {
      "text/plain": [
       "{0: [1, 4],\n",
       " 1: [2],\n",
       " 2: [0],\n",
       " 3: [4, 6],\n",
       " 4: [0, 3, 7],\n",
       " 5: [3, 7],\n",
       " 6: [5],\n",
       " 7: [4, 8],\n",
       " 8: [5, 9],\n",
       " 9: [8]}"
      ]
     },
     "execution_count": 39,
     "metadata": {},
     "output_type": "execute_result"
    }
   ],
   "source": [
    "AList = {}\n",
    "\n",
    "for i in range(10) : \n",
    "    AList[i] = []\n",
    "\n",
    "for (i, j) in edges : \n",
    "    AList[i].append(j)\n",
    "\n",
    "AList\n",
    "\n",
    "# this requires less space \n",
    "# checking for connection takes more time in adjacency list than matrix\n",
    "# add togethere all the nbrs then list representation is better "
   ]
  },
  {
   "attachments": {},
   "cell_type": "markdown",
   "metadata": {},
   "source": [
    "### BFS\n",
    "\n",
    "we visit level by level "
   ]
  },
  {
   "cell_type": "code",
   "execution_count": 8,
   "metadata": {},
   "outputs": [],
   "source": [
    "class Queue: \n",
    "    def __init__(self) :\n",
    "        self.queue = []\n",
    "\n",
    "    def addq(self, v) : \n",
    "        self.queue.append(v)\n",
    "\n",
    "    def delq(self) : \n",
    "        v = None\n",
    "        if not self.isEmpty() : \n",
    "            v = self.queue[0]\n",
    "            self.queue = self.queue[1:]\n",
    "        return v \n",
    "\n",
    "    def isEmpty(self) : \n",
    "        return self.queue == []\n",
    "\n",
    "    def __str__(self) : \n",
    "        return str(self.queue)"
   ]
  },
  {
   "cell_type": "code",
   "execution_count": 4,
   "metadata": {},
   "outputs": [
    {
     "name": "stdout",
     "output_type": "stream",
     "text": [
      "[0]\n",
      "[0, 1]\n",
      "[0, 1, 2]\n",
      "False\n",
      "0 [1, 2]\n",
      "1 [2]\n",
      "2 []\n",
      "True\n"
     ]
    }
   ],
   "source": [
    "q = Queue()\n",
    "\n",
    "for i in range(3) : \n",
    "    q.addq(i)\n",
    "    print(q)\n",
    "print(q.isEmpty())\n",
    "\n",
    "for j in range(3) : \n",
    "    print(q.delq(), q)\n",
    "\n",
    "print(q.isEmpty())"
   ]
  },
  {
   "cell_type": "code",
   "execution_count": 17,
   "metadata": {},
   "outputs": [
    {
     "name": "stdout",
     "output_type": "stream",
     "text": [
      "{0: False, 1: False, 2: False, 3: False, 4: False, 5: False, 6: False, 7: True, 8: False, 9: False}\n",
      "[7]\n",
      "7 [] nbrs of 7 =[4, 8] --> [4, 8]\n",
      "4 [8] nbrs of 4 =[0, 3, 7] --> [8, 0, 3]\n",
      "8 [0, 3] nbrs of 8 =[5, 9] --> [0, 3, 5, 9]\n",
      "0 [3, 5, 9] nbrs of 0 =[1, 4] --> [3, 5, 9, 1]\n",
      "3 [5, 9, 1] nbrs of 3 =[4, 6] --> [5, 9, 1, 6]\n",
      "5 [9, 1, 6] nbrs of 5 =[3, 7] --> [9, 1, 6]\n",
      "9 [1, 6] nbrs of 9 =[8] --> [1, 6]\n",
      "1 [6] nbrs of 1 =[2] --> [6, 2]\n",
      "6 [2] nbrs of 6 =[5] --> [2]\n",
      "2 [] nbrs of 2 =[0] --> []\n"
     ]
    },
    {
     "data": {
      "text/plain": [
       "{0: True,\n",
       " 1: True,\n",
       " 2: True,\n",
       " 3: True,\n",
       " 4: True,\n",
       " 5: True,\n",
       " 6: True,\n",
       " 7: True,\n",
       " 8: True,\n",
       " 9: True}"
      ]
     },
     "execution_count": 17,
     "metadata": {},
     "output_type": "execute_result"
    }
   ],
   "source": [
    "def BFS(AMat, v) : \n",
    "    \"\"\" \n",
    "    AMat: adjacency matrix\n",
    "    v: starting vertex \n",
    "    \"\"\"\n",
    "    \n",
    "    rows, cols = AMat.shape \n",
    "    visited = {}\n",
    "\n",
    "    # initially all edges are visited false \n",
    "    for i in range(rows) : \n",
    "        visited[i] = False\n",
    "        \n",
    "    # initialize the queue \n",
    "    q = Queue()\n",
    "\n",
    "    # start with the vertex v and mark it visited --> True \n",
    "    visited[v] = True \n",
    "    print(visited)\n",
    "\n",
    "    # add v to queue \n",
    "    q.addq(v)\n",
    "    print(q)\n",
    "\n",
    "    # while queue is not empty take one element and explore all the nbrs \n",
    "    while not q.isEmpty() : \n",
    "        j = q.delq()\n",
    "        print(j, q, end = f' nbrs of {j} =')\n",
    "        print(neighbours(AMat, j), end = ' --> ')\n",
    "        for k in neighbours(AMat, j) : \n",
    "            # if that vertex is not already visited then visit that vertex \n",
    "            # and add to queue \n",
    "            if not visited[k] : \n",
    "                visited[k] = True \n",
    "                q.addq(k)\n",
    "        print(q)\n",
    "        \n",
    "    return visited\n",
    "\n",
    "BFS(A, 7)"
   ]
  },
  {
   "attachments": {},
   "cell_type": "markdown",
   "metadata": {},
   "source": [
    "O(n^2) --> matrix <br>\n",
    "O(n+m) --> list"
   ]
  },
  {
   "cell_type": "code",
   "execution_count": 41,
   "metadata": {},
   "outputs": [
    {
     "data": {
      "text/plain": [
       "({0: True,\n",
       "  1: True,\n",
       "  2: True,\n",
       "  3: True,\n",
       "  4: True,\n",
       "  5: True,\n",
       "  6: True,\n",
       "  7: True,\n",
       "  8: True,\n",
       "  9: True},\n",
       " {0: 4, 1: 0, 2: 1, 3: 4, 4: 7, 5: 8, 6: 3, 7: -1, 8: 7, 9: 8})"
      ]
     },
     "execution_count": 41,
     "metadata": {},
     "output_type": "execute_result"
    }
   ],
   "source": [
    "def BSListPath(AList, v) : \n",
    "    # initialize parent to keep track of the parent node of each node \n",
    "    visited, parent = {}, {}\n",
    "\n",
    "    for i in AList.keys() : \n",
    "        visited[i] = False \n",
    "        # initially every node has a parent -1 \n",
    "        parent[i] = -1 \n",
    "\n",
    "    q = Queue()\n",
    "\n",
    "    # parent of v is -1  \n",
    "    visited[v] = True\n",
    "    q.addq(v)\n",
    "\n",
    "    while not q.isEmpty() : \n",
    "        j = q.delq()\n",
    "        # all the nbrs are in list \n",
    "        for k in AList[j] : \n",
    "            if not visited[k] : \n",
    "                visited[k] = True \n",
    "                # parent of k is j as k can be reached from j \n",
    "                parent[k] = j \n",
    "                q.addq(k)\n",
    "\n",
    "    return visited, parent\n",
    "\n",
    "BSListPath(AList, 7)"
   ]
  },
  {
   "cell_type": "code",
   "execution_count": 9,
   "metadata": {},
   "outputs": [
    {
     "data": {
      "text/plain": [
       "({0: 2, 1: 3, 2: 4, 3: 2, 4: 1, 5: 2, 6: 3, 7: 0, 8: 1, 9: 2},\n",
       " {0: 4, 1: 0, 2: 1, 3: 4, 4: 7, 5: 8, 6: 3, 7: -1, 8: 7, 9: 8})"
      ]
     },
     "execution_count": 9,
     "metadata": {},
     "output_type": "execute_result"
    }
   ],
   "source": [
    "def BFSListPathLevel(AList, v) : \n",
    "    level, parent = {}, {} # initialize level \n",
    "\n",
    "    for i in AList.keys() : \n",
    "        level[i] = -1 \n",
    "        parent[i] = -1 \n",
    "\n",
    "    q = Queue()\n",
    "\n",
    "    # starts at 0\n",
    "    level[v] = 0 \n",
    "    q.addq(v)\n",
    "\n",
    "    while not q.isEmpty() :\n",
    "        j = q.delq()\n",
    "        for k in AList[j] :\n",
    "            # if the level is -1 ==> visited = False \n",
    "            if level[k] == -1 : \n",
    "                # level[k] is level of parent node + 1 \n",
    "                level[k] = level[j] + 1\n",
    "                parent[k] = j \n",
    "                q.addq(k)\n",
    "\n",
    "    return level, parent\n",
    "\n",
    "BFSListPathLevel(AList, 7)"
   ]
  },
  {
   "cell_type": "markdown",
   "metadata": {},
   "source": [
    "### DFS "
   ]
  },
  {
   "cell_type": "markdown",
   "metadata": {},
   "source": [
    "#### Matrix "
   ]
  },
  {
   "cell_type": "code",
   "execution_count": 35,
   "metadata": {},
   "outputs": [
    {
     "data": {
      "text/plain": [
       "({0: True,\n",
       "  1: True,\n",
       "  2: True,\n",
       "  3: True,\n",
       "  4: True,\n",
       "  5: True,\n",
       "  6: True,\n",
       "  7: True,\n",
       "  8: True,\n",
       "  9: True},\n",
       " {0: 4, 1: 0, 2: 1, 3: 4, 4: 7, 5: 6, 6: 3, 7: -1, 8: 7, 9: 8})"
      ]
     },
     "execution_count": 35,
     "metadata": {},
     "output_type": "execute_result"
    }
   ],
   "source": [
    "# initialize visited and parent \n",
    "def DFSInit(AMat) : \n",
    "    rows, cols = AMat.shape\n",
    "    visited, parent = {}, {}\n",
    "\n",
    "    for i in range(rows) : \n",
    "        visited[i] = False \n",
    "        parent[i] = -1 \n",
    "    \n",
    "    return visited, parent\n",
    "\n",
    "# apply DFS \n",
    "def DFS(AMat, visited, parent, v) : \n",
    "    visited[v] = True \n",
    "\n",
    "    for k in neighbours(AMat, v) : \n",
    "        if not visited[k] : \n",
    "            parent[k] = v\n",
    "            # if we find one unvisited node we don't wait for adding its nbrs \n",
    "            # we directly proceed to explore the current node using DFS \n",
    "            visited, parent = DFS(AMat, visited, parent, k)\n",
    "\n",
    "    return visited, parent \n",
    "\n",
    "visited, parent = DFSInit(A)\n",
    "\n",
    "DFS(A, visited, parent, 7)"
   ]
  },
  {
   "cell_type": "code",
   "execution_count": 11,
   "metadata": {},
   "outputs": [],
   "source": [
    "# if don't want to keep passing the visited and parent dict \n",
    "# we can make it global variables \n",
    "visited, parent = {}, {}\n",
    "\n",
    "def DFSInitGlobal(AMat) : \n",
    "    rows, cols = AMat.shape \n",
    "    \n",
    "    for i in range(rows) : \n",
    "        visited[i] = False \n",
    "        parent[i] = -1 \n",
    "    \n",
    "    return \n",
    "\n",
    "def DFSGlobal(AMat, v) : \n",
    "    visited[v] = True \n",
    "\n",
    "    for k in neighbours(AMat, v) : \n",
    "        if not visited[k] : \n",
    "            parent[k] = v \n",
    "            # global variables are updated \n",
    "            DFSGlobal(AMat, k)\n",
    "\n",
    "    return "
   ]
  },
  {
   "cell_type": "markdown",
   "metadata": {},
   "source": [
    "#### List"
   ]
  },
  {
   "cell_type": "code",
   "execution_count": 12,
   "metadata": {},
   "outputs": [],
   "source": [
    "# initialize var \n",
    "def DFSInitList(AList) : \n",
    "    visited, parent = {}, {}\n",
    "\n",
    "    for i in AList.keys() : \n",
    "        visited[i] = False \n",
    "        parent[i] = -1 \n",
    "    \n",
    "    return visited, parent\n",
    "\n",
    "def DFSList(AList, visited, parent, v) : \n",
    "    visited[v] = True \n",
    "\n",
    "    # only diff is you don't need to find the nbrs \n",
    "    # as they are stored inside the values of AList[v]\n",
    "    for k in AList[v] : \n",
    "        if not visited[k] : \n",
    "            parent[k] = v\n",
    "            visited, parent = DFSList(AList, visited, parent, k)\n",
    "\n",
    "    return visited, parent "
   ]
  },
  {
   "cell_type": "code",
   "execution_count": 13,
   "metadata": {},
   "outputs": [],
   "source": [
    "visited, parent = {}, {}\n",
    "\n",
    "def DFSInitListGlobal(AList) :\n",
    "    for i in AList.keys() : \n",
    "        visited[i] = False \n",
    "        parent[i] = -1 \n",
    "    return \n",
    "\n",
    "def DFSListGlobal(AList, v) : \n",
    "    visited[v] = True \n",
    "\n",
    "    for k in AList[v] : \n",
    "        if not visited[k] : \n",
    "            parent[k] = v \n",
    "            DFSListGlobal(AList, k)\n",
    "\n",
    "    return \n",
    "\n",
    "# generally we use this for large dicts "
   ]
  },
  {
   "cell_type": "code",
   "execution_count": 45,
   "metadata": {},
   "outputs": [
    {
     "data": {
      "text/plain": [
       "{0: 0, 1: 0, 2: 0, 3: 0, 4: 0, 5: 0, 6: 0, 7: 0, 8: 0, 9: 0}"
      ]
     },
     "execution_count": 45,
     "metadata": {},
     "output_type": "execute_result"
    }
   ],
   "source": [
    "\"\"\"\n",
    "--> every node's component id is initially -1 \n",
    "--> initialize compID = 0 and num of nodes seen = 0 \n",
    "--> loop until all the nodes are seen \n",
    "--> take the min unvisited node and apply BFS to find all nodes which can be visited from that node \n",
    "--> take the visited dict and if a node is visited then make that seen and add compID \n",
    "\n",
    "now all the nodes that can be visited starting from the smallest node is marked as component 0 \n",
    "--> now increment the compID and check if all the nodes are seen. \n",
    "    --> if some nodes are remaining then take the smallest among them and repeat \n",
    "--> else return component dict \n",
    "\"\"\"\n",
    "\n",
    "def Components(AList) : \n",
    "    component = {}\n",
    "    for i in AList.keys() : \n",
    "        component[i] = -1 \n",
    "\n",
    "    compID, seen = 0, 0 \n",
    "\n",
    "    while seen <= max(AList.keys()) : \n",
    "        startv = min([i for i in AList.keys() if component[i] == -1])\n",
    "\n",
    "        visited = BSListPath(AList, startv)[0] \n",
    "        for i in visited.keys() : \n",
    "            if visited[i] : \n",
    "                seen += 1 \n",
    "                component[i] = compID \n",
    "        compID += 1 \n",
    " \n",
    "    return component\n",
    "\n",
    "Components(AList)"
   ]
  },
  {
   "cell_type": "code",
   "execution_count": 51,
   "metadata": {},
   "outputs": [
    {
     "data": {
      "text/plain": [
       "(20,\n",
       " {0: 2, 1: 3, 2: 4, 3: 8, 4: 1, 5: 10, 6: 9, 7: 0, 8: 15, 9: 16},\n",
       " {0: 7, 1: 6, 2: 5, 3: 13, 4: 14, 5: 11, 6: 12, 7: 19, 8: 18, 9: 17},\n",
       " {0: True,\n",
       "  1: True,\n",
       "  2: True,\n",
       "  3: True,\n",
       "  4: True,\n",
       "  5: True,\n",
       "  6: True,\n",
       "  7: True,\n",
       "  8: True,\n",
       "  9: True})"
      ]
     },
     "execution_count": 51,
     "metadata": {},
     "output_type": "execute_result"
    }
   ],
   "source": [
    "\"\"\"\n",
    "initially counter is 0 \n",
    "increment counter each time we start and finish exploring a node \n",
    "prenumber is at with point we started exploring a vertex \n",
    "post number is at which point we stopped exploring a vertex \n",
    "\"\"\"\n",
    "\n",
    "visited, pre, post = {}, {}, {}\n",
    "\n",
    "def DFSInitPrePost(AList) : \n",
    "    for i in AList.keys() : \n",
    "        visited[i] = False \n",
    "        pre[i], post[i] = -1, -1\n",
    "\n",
    "    return \n",
    "\n",
    "def DFSPrePost(AList, v, count) : \n",
    "    visited[v] = True \n",
    "    pre[v] = count \n",
    "    count += 1\n",
    "    for k in AList[v] : \n",
    "        if not visited[k] :  \n",
    "            count = DFSPrePost(AList, k, count)[0]\n",
    "\n",
    "    post[v] = count \n",
    "    count += 1\n",
    "    \n",
    "    return count, pre, post, visited\n",
    "\n",
    "DFSInitPrePost(AList)\n",
    "DFSPrePost(AList, 7, 0)"
   ]
  },
  {
   "cell_type": "markdown",
   "metadata": {},
   "source": [
    "### DAG (Directed Acyclic Graph)"
   ]
  },
  {
   "cell_type": "markdown",
   "metadata": {},
   "source": [
    "<img src = 'https://i.imgur.com/GzU4BKw.png' width = 600>"
   ]
  },
  {
   "cell_type": "code",
   "execution_count": 60,
   "metadata": {},
   "outputs": [],
   "source": [
    "A_dag = np.array([\n",
    "    [0, 1, 1, 0, 0],\n",
    "    [0, 0, 1, 0, 1],\n",
    "    [0, 0, 0, 1, 0],\n",
    "    [0, 0, 0, 0, 1],\n",
    "    [0, 0, 0, 0, 0]\n",
    "])"
   ]
  },
  {
   "cell_type": "code",
   "execution_count": 62,
   "metadata": {},
   "outputs": [
    {
     "name": "stdout",
     "output_type": "stream",
     "text": [
      "{0: 0, 1: 1, 2: 2, 3: 1, 4: 2}\n",
      "0 {0: -1, 1: 1, 2: 2, 3: 1, 4: 2}\n",
      "1 {0: -1, 1: -1, 2: 1, 3: 1, 4: 2}\n",
      "2 {0: -1, 1: -1, 2: -1, 3: 1, 4: 1}\n",
      "3 {0: -1, 1: -1, 2: -1, 3: -1, 4: 1}\n",
      "4 {0: -1, 1: -1, 2: -1, 3: -1, 4: -1}\n"
     ]
    },
    {
     "data": {
      "text/plain": [
       "[0, 1, 2, 3, 4]"
      ]
     },
     "execution_count": 62,
     "metadata": {},
     "output_type": "execute_result"
    }
   ],
   "source": [
    "\"\"\"\n",
    "you can't visit one node unless all the indegree of that particular node is visited \n",
    "\"\"\"\n",
    "\n",
    "def topSort(AMat) : \n",
    "    rows, cols = AMat.shape \n",
    "\n",
    "    indegree = {}\n",
    "    topSortList = []\n",
    "\n",
    "    # computing indegree dict \n",
    "    # indegree of a node is total number of 1 in that col \n",
    "    for c in range(cols) : \n",
    "        indegree[c] = 0\n",
    "        for r in range(rows) :\n",
    "            if AMat[r, c] == 1 : \n",
    "                indegree[c] = indegree[c] + 1\n",
    "\n",
    "    print(indegree)\n",
    "\n",
    "    for i in range(rows) : \n",
    "        # choosing the min one among the all the nodes with indegree 0\n",
    "        # this list will always be non empty\n",
    "        j = min([k for k in range(cols) if indegree[k] == 0])\n",
    "\n",
    "        # add the removed node to the output \n",
    "        topSortList.append(j)\n",
    "\n",
    "        # indegree of a visited node is -1 \n",
    "        indegree[j] = indegree[j] - 1 \n",
    "\n",
    "        # reducing the indegree from all the outgoing edges from j\n",
    "        for k in range(cols) : \n",
    "            if AMat[j, k] == 1 : \n",
    "                indegree[k] = indegree[k] - 1\n",
    "\n",
    "    return topSortList\n",
    "\n",
    "topSort(A_dag)\n",
    "# O(n^2)"
   ]
  },
  {
   "cell_type": "code",
   "execution_count": 18,
   "metadata": {},
   "outputs": [],
   "source": [
    "def topSortList(AList) : \n",
    "    indegree, topSortList = {}, []\n",
    "\n",
    "    # initializing indegeree as 0\n",
    "    for u in AList.keys() : \n",
    "        indegree[u] = 0\n",
    "\n",
    "    # increment indegree \n",
    "    for u in AList.keys() : \n",
    "        for v in AList[u] : \n",
    "            indegree[v] = indegree[v] + 1 \n",
    "\n",
    "    # adding 0 indegree edge to queue \n",
    "    zeroDegreeQ = Queue()\n",
    "    for u in AList.keys() : \n",
    "        if indegree[u] == 0 : \n",
    "            zeroDegreeQ.addq(u) \n",
    "\n",
    "    # repeat until queue is empty \n",
    "    while not zeroDegreeQ.isEmpty() : \n",
    "\n",
    "        # remove the node with 0 deg and add to final list \n",
    "        j = zeroDegreeQ.delq()\n",
    "        topSortList.append(j)\n",
    "        \n",
    "        indegree[j] = indegree[j] - 1 \n",
    "\n",
    "        # reducing indegree for all the remaining edge \n",
    "        for k in AList[j] : \n",
    "            indegree[k] = indegree[k] - 1 \n",
    "            # add the node node with zero indegree to queue \n",
    "            if indegree[k] == 0 : \n",
    "                zeroDegreeQ.addq(k)\n",
    "\n",
    "    # finally the queue will be empty and return \n",
    "    return topSortList\n",
    "\n",
    "# O(m+n)"
   ]
  },
  {
   "cell_type": "code",
   "execution_count": null,
   "metadata": {},
   "outputs": [],
   "source": []
  }
 ],
 "metadata": {
  "kernelspec": {
   "display_name": "Python 3",
   "language": "python",
   "name": "python3"
  },
  "language_info": {
   "codemirror_mode": {
    "name": "ipython",
    "version": 3
   },
   "file_extension": ".py",
   "mimetype": "text/x-python",
   "name": "python",
   "nbconvert_exporter": "python",
   "pygments_lexer": "ipython3",
   "version": "3.10.7"
  },
  "orig_nbformat": 4
 },
 "nbformat": 4,
 "nbformat_minor": 2
}
