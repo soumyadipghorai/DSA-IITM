{
 "cells": [
  {
   "cell_type": "code",
   "execution_count": 5,
   "metadata": {},
   "outputs": [],
   "source": [
    "def fact(n) : \n",
    "    if n <= 0 : \n",
    "        return 1\n",
    "\n",
    "    else : \n",
    "        return n * fact(n-1)\n",
    "\n",
    "# insertion sort \n",
    "def isort(arr) : \n",
    "    if arr == [] : \n",
    "        return arr \n",
    "    \n",
    "    else : \n",
    "        return insert(isort(arr[:-1]), arr[-1])"
   ]
  },
  {
   "cell_type": "markdown",
   "metadata": {},
   "source": [
    "#### Memoization"
   ]
  },
  {
   "cell_type": "code",
   "execution_count": 10,
   "metadata": {},
   "outputs": [
    {
     "data": {
      "text/plain": [
       "8"
      ]
     },
     "execution_count": 10,
     "metadata": {},
     "output_type": "execute_result"
    }
   ],
   "source": [
    "fibTable = {}\n",
    "\n",
    "def fib(n) : \n",
    "    if n in fibTable.keys() : \n",
    "        return fibTable[n]\n",
    "    \n",
    "    if n <= 1 : \n",
    "        value = n \n",
    "    else : \n",
    "        value = fib(n-1) + fib(n-2)\n",
    "\n",
    "    fibTable[n] = value \n",
    "    return value \n",
    "\n",
    "fib(6)"
   ]
  },
  {
   "cell_type": "code",
   "execution_count": 11,
   "metadata": {},
   "outputs": [
    {
     "name": "stdout",
     "output_type": "stream",
     "text": [
      "55 8.259999958681874e-05\n",
      "55 5.809999947814504e-05\n",
      "55 5.059999966761097e-05\n"
     ]
    }
   ],
   "source": [
    "\n",
    "#simple recursive\n",
    "def fibrec(n):\n",
    "    if n <= 1:\n",
    "        return n \n",
    "    return fibrec(n - 1) + fibrec(n - 2)\n",
    "\n",
    "# memoization topdown\n",
    "memo ={}\n",
    "def fibmem(n):\n",
    "    if n <= 1:\n",
    "        memo[n] = n\n",
    "    if n not in memo:\n",
    "        memo[n] = fibmem(n-1) + fibmem(n-2)\n",
    "    return memo[n]\n",
    "\n",
    "# DP tabulation bottom up\n",
    "def fibtab(n):\n",
    "    T = [0] * (n + 1)\n",
    "    T[1] = 1\n",
    "    for i in range(2, n + 1):\n",
    "        T[i] = T[i - 1] + T[i - 2]\n",
    "    return T[n]\n",
    "\n",
    "\n",
    "n=int(input())\n",
    "import time\n",
    "t1 = time.perf_counter()\n",
    "res1 = fibrec(n)\n",
    "ft1 = time.perf_counter() - t1\n",
    "\n",
    "t1 = time.perf_counter()\n",
    "res2 = fibmem(n)\n",
    "ft2 = time.perf_counter() - t1\n",
    "\n",
    "t1 = time.perf_counter()\n",
    "res3 = fibtab(n)\n",
    "ft3 = time.perf_counter() - t1\n",
    "\n",
    "print(res1,ft1)\n",
    "print(res2,ft2)\n",
    "print(res3,ft3)"
   ]
  },
  {
   "cell_type": "code",
   "execution_count": 17,
   "metadata": {},
   "outputs": [
    {
     "name": "stdout",
     "output_type": "stream",
     "text": [
      "[[0. 0. 0. 0. 0. 0. 0.]\n",
      " [0. 0. 0. 0. 0. 0. 0.]\n",
      " [0. 0. 0. 0. 0. 0. 0.]\n",
      " [0. 0. 0. 0. 0. 0. 0.]\n",
      " [0. 0. 0. 0. 0. 0. 0.]\n",
      " [0. 0. 0. 0. 0. 0. 0.]\n",
      " [0. 0. 0. 0. 0. 0. 0.]]\n",
      "[[0. 0. 0. 0. 0. 0. 0.]\n",
      " [0. 0. 0. 0. 0. 0. 0.]\n",
      " [3. 0. 0. 0. 0. 0. 0.]\n",
      " [0. 2. 0. 0. 1. 0. 0.]\n",
      " [0. 0. 1. 0. 0. 0. 0.]\n",
      " [0. 0. 0. 0. 0. 1. 0.]\n",
      " [0. 0. 0. 0. 0. 0. 0.]]\n",
      "3.0\n"
     ]
    }
   ],
   "source": [
    "# longest common subword \n",
    "import numpy as np\n",
    "\n",
    "def LCW(s1,s2):\n",
    "    m, n = len(s1), len(s2)\n",
    "    # construct the grid of m*n zeros \n",
    "    # ? notice we have taken m+1 and n+1 to set the base case as 0\n",
    "    lcw = np.zeros((m+1,n+1))\n",
    "   \n",
    "    print(lcw)\n",
    "    maxw = 0\n",
    "\n",
    "    # we start filling from reverse order starting from bottom right corner\n",
    "    for c in range(n-1,-1,-1):\n",
    "        for r in range(m-1,-1,-1):\n",
    "            # if the chars are same then fill that position with 1 + lcw[r+1, c+1] \n",
    "            # else keep it 0\n",
    "            if s1[r] == s2[c]:\n",
    "                lcw[r,c] = 1 + lcw[r+1,c+1]\n",
    "            else:\n",
    "                lcw[r,c] = 0\n",
    "            \n",
    "            # compare the max \n",
    "            if lcw[r,c] > maxw:\n",
    "                maxw = lcw[r,c]   \n",
    "    print(lcw)             \n",
    "    return maxw\n",
    "s1 = 'bisect'\n",
    "s2 = 'secret'\n",
    "print(LCW(s1,s2))\n",
    "\n",
    "# O(mn)"
   ]
  },
  {
   "cell_type": "code",
   "execution_count": 19,
   "metadata": {},
   "outputs": [
    {
     "name": "stdout",
     "output_type": "stream",
     "text": [
      "[[0. 0. 0. 0. 0. 0. 0.]\n",
      " [0. 0. 0. 0. 0. 0. 0.]\n",
      " [0. 0. 0. 0. 0. 0. 0.]\n",
      " [0. 0. 0. 0. 0. 0. 0.]\n",
      " [0. 0. 0. 0. 0. 0. 0.]\n",
      " [0. 0. 0. 0. 0. 0. 0.]\n",
      " [0. 0. 0. 0. 0. 0. 0.]]\n",
      "[[4. 4. 4. 3. 2. 1. 0.]\n",
      " [3. 3. 3. 3. 2. 1. 0.]\n",
      " [2. 2. 2. 2. 2. 1. 0.]\n",
      " [2. 2. 2. 2. 1. 1. 0.]\n",
      " [2. 2. 2. 2. 1. 1. 0.]\n",
      " [1. 1. 1. 1. 1. 1. 0.]\n",
      " [0. 0. 0. 0. 0. 0. 0.]]\n",
      "4.0\n"
     ]
    }
   ],
   "source": [
    "def LCS(s1,s2):\n",
    "    (m,n) = (len(s1),len(s2))\n",
    "    lcs = np.zeros((m+1,n+1))\n",
    "    print(lcs)\n",
    "    for c in range(n-1,-1,-1):\n",
    "        for r in range(m-1,-1,-1):\n",
    "            if s1[r] == s2[c]:\n",
    "                lcs[r,c] = 1 + lcs[r+1,c+1]\n",
    "            else:\n",
    "                lcs[r,c] = max(lcs[r+1,c], lcs[r,c+1])                \n",
    "    \n",
    "    print(lcs)\n",
    "    # max will aways come at 0, 0\n",
    "    return lcs[0,0] \n",
    "\n",
    "s1 = 'secret'\n",
    "s2 = 'bisect'\n",
    "print(LCS(s1,s2))\n",
    "# O(mn)"
   ]
  },
  {
   "cell_type": "code",
   "execution_count": 21,
   "metadata": {},
   "outputs": [
    {
     "name": "stdout",
     "output_type": "stream",
     "text": [
      "[[0. 0. 0. 0. 0. 0. 0.]\n",
      " [0. 0. 0. 0. 0. 0. 0.]\n",
      " [0. 0. 0. 0. 0. 0. 0.]\n",
      " [0. 0. 0. 0. 0. 0. 0.]\n",
      " [0. 0. 0. 0. 0. 0. 0.]\n",
      " [0. 0. 0. 0. 0. 0. 0.]\n",
      " [0. 0. 0. 0. 0. 0. 0.]]\n",
      "[[4. 4. 4. 4. 4. 5. 6.]\n",
      " [3. 4. 3. 3. 3. 4. 5.]\n",
      " [2. 3. 3. 2. 2. 3. 4.]\n",
      " [3. 2. 3. 2. 1. 2. 3.]\n",
      " [4. 3. 2. 2. 1. 1. 2.]\n",
      " [5. 4. 3. 2. 1. 0. 1.]\n",
      " [6. 5. 4. 3. 2. 1. 0.]]\n",
      "4.0\n"
     ]
    }
   ],
   "source": [
    "def ED(u,v):\n",
    "    m,n = len(u),len(v)\n",
    "    ed = np.zeros((m+1,n+1))\n",
    "    print(ed)\n",
    "\n",
    "    # setting the boundary values \n",
    "    for i in range(m-1,-1,-1):\n",
    "        ed[i,n] = m-i\n",
    "\n",
    "    for j in range(n-1,-1,-1):\n",
    "        ed[m,j] = n-j\n",
    "\n",
    "    for j in range(n-1,-1,-1):\n",
    "        for i in range(m-1,-1,-1):\n",
    "            if u[i] == v[j]:\n",
    "                ed[i,j] = ed[i+1,j+1]\n",
    "            else:\n",
    "                ed[i,j] = 1 + min(ed[i+1,j+1], ed[i,j+1], ed[i+1,j])\n",
    "\n",
    "    print(ed)\n",
    "    return(ed[0,0])\n",
    "\n",
    "print(ED('bisect','secret'))"
   ]
  },
  {
   "cell_type": "code",
   "execution_count": 24,
   "metadata": {},
   "outputs": [
    {
     "name": "stdout",
     "output_type": "stream",
     "text": [
      "3\n",
      "[[ 0. 24.  0.]\n",
      " [ 0.  0.  0.]\n",
      " [ 0.  0.  0.]]\n",
      "[[ 0. 24.  0.]\n",
      " [ 0.  0.  0.]\n",
      " [ 0.  0.  0.]]\n",
      "[[ 0. 24.  0.]\n",
      " [ 0.  0. 60.]\n",
      " [ 0.  0.  0.]]\n",
      "[[ 0. 24.  0.]\n",
      " [ 0.  0. 60.]\n",
      " [ 0.  0.  0.]]\n",
      "[[ 0. 24. 90.]\n",
      " [ 0.  0. 60.]\n",
      " [ 0.  0.  0.]]\n",
      "[[ 0. 24. 64.]\n",
      " [ 0.  0. 60.]\n",
      " [ 0.  0.  0.]]\n",
      "64.0\n"
     ]
    }
   ],
   "source": [
    "def MM(dim):\n",
    "    n = dim.shape[0]\n",
    "    # cost matrix  \n",
    "    C = np.zeros((n,n))\n",
    "    # base case \n",
    "    for i in range(n):\n",
    "        C[i,i] = 0\n",
    "    # fill diagonally starting from (0, 1), (1, 2), (2, 3), ...\n",
    "    for diff in range(1,n):\n",
    "        for i in range(0,n-diff):\n",
    "            j = i + diff\n",
    "            C[i,j] = C[i,i] + C[i+1,j] + dim[i][0] * dim[i+1][0] * dim[j][1]\n",
    "            print(C)\n",
    "            for k in range(i+1, j+1):\n",
    "                C[i,j] = min(C[i,j],C[i,k-1] + C[k,j] + dim[i][0] * dim[k][0] * dim[j][1])\n",
    "            print(C)\n",
    "    \n",
    "    return(C[0,n-1])\n",
    "\n",
    "a = np.array([[2,3],[3,4],[4,5]])\n",
    "print(MM(a))\n",
    "# O(n^2) -->fill a table \n",
    "# O(n) --> for each entry \n",
    "# O(n^3) overall "
   ]
  },
  {
   "cell_type": "code",
   "execution_count": 23,
   "metadata": {},
   "outputs": [
    {
     "name": "stdout",
     "output_type": "stream",
     "text": [
      "1344\n"
     ]
    }
   ],
   "source": [
    "def MM(dim):\n",
    "    n = len(dim)\n",
    "    C = []\n",
    "    for i in range(n):\n",
    "        L = []\n",
    "        L=[0]*n\n",
    "        C.append(L.copy())        \n",
    "    for diff in range(1,n):\n",
    "        for i in range(0,n-diff):\n",
    "            j = i + diff\n",
    "            KL = []\n",
    "            for k in range(i, j):\n",
    "                KL.append(C[i][k] + C[k+1][j] + dim[i][0] * dim[k][1] * dim[j][1])\n",
    "            C[i][j] = min(KL)\n",
    "    return(C[0][n-1])\n",
    "a = [[4,10],[10,3],[3,12],[12,20],[20,7]]\n",
    "print(MM(a))"
   ]
  },
  {
   "cell_type": "code",
   "execution_count": null,
   "metadata": {},
   "outputs": [],
   "source": []
  }
 ],
 "metadata": {
  "kernelspec": {
   "display_name": "Python 3",
   "language": "python",
   "name": "python3"
  },
  "language_info": {
   "codemirror_mode": {
    "name": "ipython",
    "version": 3
   },
   "file_extension": ".py",
   "mimetype": "text/x-python",
   "name": "python",
   "nbconvert_exporter": "python",
   "pygments_lexer": "ipython3",
   "version": "3.7.9"
  },
  "orig_nbformat": 4
 },
 "nbformat": 4,
 "nbformat_minor": 2
}
