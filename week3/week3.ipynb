{
 "cells": [
  {
   "cell_type": "code",
   "execution_count": null,
   "metadata": {},
   "outputs": [],
   "source": [
    "# find median (pivot)\n",
    "# > med --> left \n",
    "# < med --> right \n",
    "# sort left + sort right \n",
    "def quickSort(L, l, r) : \n",
    "    if r - l <= 1 : \n",
    "        return L \n",
    "\n",
    "    pivot, lower, upper = L[1], l+1, l+1 \n",
    "    \n",
    "    for i in range(l+1, r) : \n",
    "        # extend upper  \n",
    "        if L[i] > pivot : \n",
    "            upper += 1 \n",
    "        # lowest from upper <> current \n",
    "        else : \n",
    "            L[i], L[lower] = L[lower], L[i]\n",
    "\n",
    "            lower, upper = lower+1, upper + 1 \n",
    "\n",
    "    # pivot <> last of lower  \n",
    "    # pushing pivot between lower and upper \n",
    "    L[l], L[lower-1] = L[lower-1], L[l]\n",
    "    lower -= 1 \n",
    "\n",
    "    # sort left and right \n",
    "    quickSort(L, l, lower)\n",
    "    quickSort(L, lower+1, upper)\n",
    "\n",
    "    return L\n",
    "\n",
    "# lists updates in place "
   ]
  }
 ],
 "metadata": {
  "language_info": {
   "name": "python"
  },
  "orig_nbformat": 4
 },
 "nbformat": 4,
 "nbformat_minor": 2
}
