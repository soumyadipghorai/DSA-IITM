{
 "cells": [
  {
   "cell_type": "code",
   "execution_count": 12,
   "metadata": {},
   "outputs": [],
   "source": [
    "import time \n",
    "\n",
    "class TimeError(Exception) : \n",
    "    \"\"\"A custom exception used to report errors in use of Timer Class\"\"\"\n",
    "\n",
    "class Timer : \n",
    "    def __init__(self) : \n",
    "        self._start_time = None\n",
    "        self._elapsed_time = None\n",
    "\n",
    "    def start(self) : \n",
    "        \"\"\"start a new timer\"\"\"\n",
    "        if self._start_time is not None :\n",
    "            raise TimeError(\"Timer is running. Use .stop()\")\n",
    "        self._start_time = time.perf_counter()\n",
    "\n",
    "    def stop(self) : \n",
    "        \"\"\"Save the elapsed time and re-initialize timer\"\"\"\n",
    "        if self._start_time is None : \n",
    "            raise TimeError(\"Timer is not running. User .start()\")\n",
    "        self._elapsed_time = time.perf_counter() - self._start_time\n",
    "        self._start_time = None\n",
    "\n",
    "    def elapsed(self) : \n",
    "        \"\"\"Report elapsed time\"\"\"\n",
    "        if self._elapsed_time is None : \n",
    "            raise TimeError(\"Timer is not running. Use .start()\")\n",
    "        retunr (self._elapsed_time)\n",
    "\n",
    "    def __str__(self) : \n",
    "        \"\"\"print() prints elapsed time\"\"\"\n",
    "        return str(self._elapsed_time)"
   ]
  },
  {
   "cell_type": "code",
   "execution_count": null,
   "metadata": {},
   "outputs": [],
   "source": [
    "# find median (pivot)\n",
    "# > med --> left \n",
    "# < med --> right \n",
    "# sort left + sort right \n",
    "def quickSort(L, l, r) : \n",
    "    if r - l <= 1 : \n",
    "        return L \n",
    "\n",
    "    pivot, lower, upper = L[l], l+1, l+1 \n",
    "    \n",
    "    for i in range(l+1, r) : \n",
    "        # extend upper  \n",
    "        if L[i] > pivot : \n",
    "            upper += 1 \n",
    "        # lowest from upper <> current \n",
    "        else : \n",
    "            L[i], L[lower] = L[lower], L[i]\n",
    "\n",
    "            lower, upper = lower+1, upper + 1 \n",
    "\n",
    "    # pivot <> last of lower  \n",
    "    # pushing pivot between lower and upper \n",
    "    L[l], L[lower-1] = L[lower-1], L[l]\n",
    "    lower -= 1 \n",
    "\n",
    "    # sort left and right \n",
    "    quickSort(L, l, lower)\n",
    "    quickSort(L, lower+1, upper)\n",
    "\n",
    "    return L\n",
    "\n",
    "# lists updates in place \n",
    "\n",
    "# worst case O(n^2)\n",
    "# avg case O(nlogn) -> can be achieved by randomly choosing the pivot element \n",
    "#  often used for built in sorting algo (algo of choice in most cases)"
   ]
  },
  {
   "cell_type": "code",
   "execution_count": null,
   "metadata": {},
   "outputs": [],
   "source": [
    "import sys \n",
    "\n",
    "sys.setrecursionlimit(2**31-1)"
   ]
  },
  {
   "cell_type": "code",
   "execution_count": null,
   "metadata": {},
   "outputs": [],
   "source": [
    "qlist = [1, 3, 5, 0, 2, 4, 17, 2, -5, 6, 4, 3]\n",
    "qnew = quickSort(qlist, 0, 12)\n",
    "\n",
    "print(qnew,'-->', qlist)"
   ]
  },
  {
   "cell_type": "code",
   "execution_count": null,
   "metadata": {},
   "outputs": [],
   "source": [
    "import random \n",
    "\n",
    "random.seed(2021)\n",
    "\n",
    "inputLists = {}\n",
    "\n",
    "inputLists['random'] = [random.randrange(100000) for i in range(50000)]\n",
    "inputLists['asc'] = [i for i in range(50000)]\n",
    "inputLists['desc'] = [i for i in range(49999, -1, -1)]\n",
    "\n",
    "t = Timer()\n",
    "for k in inputLists.keys() : \n",
    "    tmplist = inputLists[k][:]\n",
    "    t.start()\n",
    "    quickSort(tmplist, 0, len(tmplist))\n",
    "    t.stop()\n",
    "    print(k, ' time taken --> ', t) \n",
    "\n",
    "# works significantly faster in random case \n",
    "# but not in sorted ones in takes way more "
   ]
  },
  {
   "attachments": {},
   "cell_type": "markdown",
   "metadata": {},
   "source": [
    "stability --> sorting on one column should not affect the sorting on another column <br> \n",
    "--> quick sort is not stable <br> \n",
    "--> merge sort is stable <br> \n",
    "merge sort is used for external sorting <br> \n",
    "\n",
    "heap sort -> O(nlogn)<br> \n",
    "\n",
    "we can use hybrid sorting combining mutiple sorting algos <br> "
   ]
  },
  {
   "attachments": {},
   "cell_type": "markdown",
   "metadata": {},
   "source": [
    "### List and Array \n",
    "\n",
    "**List :**\n",
    "* flexible length \n",
    "* easy to modify structure \n",
    "* values are scattered in memory \n",
    "(linkedList)\n",
    "* inserting or deleting is easier\n",
    "\n",
    "**Array** \n",
    "* Fixed size \n",
    "* allocate a contiguous block of memory \n",
    "* supports random access, accessing any element takes same amount of time  (as size is fixed and type is fixed so you exactly know how much positions to skip for the element)\n",
    "* inserting or deleting is O(n) worst case\n",
    "accessing is faster in array \n",
    "\n",
    "**Operations** \n",
    "* Swap -> array (constant)  list(O(n))\n",
    "* delete, inset -> array (O(N))  list(constant)\n",
    "\n",
    "if you insert at right place in a sorted list using binary search then finding middle is easier in array but inserting is easier list "
   ]
  },
  {
   "cell_type": "code",
   "execution_count": 11,
   "metadata": {},
   "outputs": [],
   "source": [
    "class Node : \n",
    "    def __init__(self, val = None) : \n",
    "        self.value = val \n",
    "        self.next = None \n",
    "\n",
    "    def isEmpty(self) : \n",
    "        if self.value == None : \n",
    "            return True \n",
    "        return False \n",
    "\n",
    "    def append(self, val) : \n",
    "        if self.isEmpty() : \n",
    "            self.value = val  \n",
    "\n",
    "        else : \n",
    "            itr = self \n",
    "\n",
    "            while itr.next : \n",
    "                itr = itr.next  \n",
    "\n",
    "            itr.next = Node(val)\n",
    "\n",
    "        return \n",
    "\n",
    "    def appendRec(self, val) : \n",
    "        if self.isEmpty() : \n",
    "            self.value = val \n",
    "        \n",
    "        elif self.next == None : \n",
    "            self.next = Node(val)\n",
    "\n",
    "        else :\n",
    "            self.next.append(val)\n",
    "\n",
    "        return \n",
    "\n",
    "    def insert(self, val) : \n",
    "        if self.isEmpty() : \n",
    "            self.value = val \n",
    "\n",
    "        else : \n",
    "            newNode = Node(val)\n",
    "\n",
    "            # exchange values \n",
    "            self.value, newNode.value = newNode.value, self.value \n",
    "            \n",
    "            # switch links \n",
    "            self.next, newNode.next = newNode, self.next \n",
    "\n",
    "        return \n",
    "\n",
    "    def delete(self, val) : \n",
    "        if self.isEmpty() : \n",
    "            return \n",
    "\n",
    "        else : \n",
    "            itr = self\n",
    "            while itr.next.next : \n",
    "                if itr.next.value == val : \n",
    "                    itr.next = itr.next.next \n",
    "                    break \n",
    "                itr = itr.next \n",
    "\n",
    "            if itr.next.value == val : \n",
    "                itr.next = None \n",
    "\n",
    "    def deleteRec(self, val) : \n",
    "        if self.isEmpty() : \n",
    "            return \n",
    "\n",
    "        if self.value == val : \n",
    "             self.value = None \n",
    "             if self.next != None : \n",
    "                self.value = self.next.value \n",
    "                self.next = self.next.next \n",
    "\n",
    "        else :\n",
    "            if self.next != None : \n",
    "                self.next.delete(val)\n",
    "                if self.next.value == None :\n",
    "                    self.next = None \n",
    "\n",
    "        return \n",
    "\n",
    "l1 = Node()\n",
    "l1.isEmpty()\n",
    "\n",
    "l2 = Node(5)\n",
    "l2.isEmpty()\n",
    "\n",
    "l1.insert(2)"
   ]
  },
  {
   "attachments": {},
   "cell_type": "markdown",
   "metadata": {},
   "source": [
    "**List in python** are not linkedList, they are implemented as array.\n",
    " \n",
    "it declairs a large memory for a list. once the memory reach the size then it double the size \n",
    "\n",
    "append and pop are constant time, amortised O(1)\n",
    "\n",
    "insert and delete -> O(n)"
   ]
  },
  {
   "cell_type": "code",
   "execution_count": 3,
   "metadata": {},
   "outputs": [
    {
     "name": "stdout",
     "output_type": "stream",
     "text": [
      "[[0, 0, 0], [0, 0, 0], [0, 0, 0]]\n",
      "[[0, 1, 0], [0, 1, 0], [0, 1, 0]]\n"
     ]
    }
   ],
   "source": [
    "zeroList = [0, 0, 0]\n",
    "zeroMatrix = [zeroList, zeroList, zeroList]\n",
    "print(zeroMatrix)\n",
    "\n",
    "zeroMatrix[1][1] = 1 # mutable \n",
    "print(zeroMatrix)\n",
    "# this happens because every element in zeroMatrix points to the same zeroList \n",
    "# so we have to initialize matrix first "
   ]
  },
  {
   "cell_type": "code",
   "execution_count": 5,
   "metadata": {},
   "outputs": [
    {
     "name": "stdout",
     "output_type": "stream",
     "text": [
      "[[0. 0. 0.]\n",
      " [0. 0. 0.]\n",
      " [0. 0. 0.]]\n"
     ]
    }
   ],
   "source": [
    "import numpy as np \n",
    "\n",
    "zeroMatrix = np.zeros(shape = (3, 3))\n",
    "print(zeroMatrix)"
   ]
  },
  {
   "cell_type": "code",
   "execution_count": 6,
   "metadata": {},
   "outputs": [
    {
     "name": "stdout",
     "output_type": "stream",
     "text": [
      "[[0 1]\n",
      " [1 0]]\n"
     ]
    }
   ],
   "source": [
    "newArr = np.array([[0, 1], [1, 0]])\n",
    "print(newArr)"
   ]
  },
  {
   "cell_type": "code",
   "execution_count": 7,
   "metadata": {},
   "outputs": [
    {
     "name": "stdout",
     "output_type": "stream",
     "text": [
      "[0 1 2 3 4]\n"
     ]
    }
   ],
   "source": [
    "row = np.arange(5)\n",
    "print(row)"
   ]
  },
  {
   "cell_type": "code",
   "execution_count": 10,
   "metadata": {},
   "outputs": [
    {
     "name": "stdout",
     "output_type": "stream",
     "text": [
      "[[19 22]\n",
      " [43 50]]\n",
      "[[ 8 12]\n",
      " [16 20]]\n"
     ]
    }
   ],
   "source": [
    "A = np.array([[1, 2], [3, 4]])\n",
    "B = np.array([[5, 6], [7, 8]])\n",
    "\n",
    "D = 3*A + B\n",
    "C = np.matmul(A, B)\n",
    "print(C)\n",
    "print(D)"
   ]
  },
  {
   "cell_type": "code",
   "execution_count": 13,
   "metadata": {},
   "outputs": [
    {
     "name": "stdout",
     "output_type": "stream",
     "text": [
      "1.9823357999994187\n"
     ]
    }
   ],
   "source": [
    "t = Timer()\n",
    "t.start()\n",
    "l = []\n",
    "\n",
    "for i in range(10**7) : \n",
    "    l.append(i)\n",
    "\n",
    "t.stop()\n",
    "print(t)"
   ]
  },
  {
   "cell_type": "code",
   "execution_count": 19,
   "metadata": {},
   "outputs": [
    {
     "name": "stdout",
     "output_type": "stream",
     "text": [
      "5.50565959999949\n",
      "12.8025179999986\n"
     ]
    }
   ],
   "source": [
    "t = Timer()\n",
    "t.start()\n",
    "l = []\n",
    "\n",
    "for i in range(10**5) : \n",
    "    l.insert(0, i)\n",
    "\n",
    "t.stop()\n",
    "print(t) # much slower\n",
    "\n",
    "t = Timer()\n",
    "t.start()\n",
    "l = []\n",
    "\n",
    "for i in range(20**4) : \n",
    "    l.insert(0, i)\n",
    "\n",
    "t.stop()\n",
    "print(t) # much much slower"
   ]
  },
  {
   "cell_type": "code",
   "execution_count": 21,
   "metadata": {},
   "outputs": [],
   "source": [
    "def naiveSearch(value, arr) : # O(n)\n",
    "    for val in arr : \n",
    "        if val == value : \n",
    "            return True \n",
    "    return False \n",
    "\n",
    "\n",
    "def binarySearch(value, arr) : # logn\n",
    "    if arr == [] : \n",
    "        return False \n",
    "\n",
    "    m = len(arr)//2 \n",
    "\n",
    "    if value == arr[m] : \n",
    "        return True \n",
    "\n",
    "    if value > arr[m] : \n",
    "        return binarySearch(value, arr[m+1:])\n",
    "    else : \n",
    "        return binarySearch(value, arr[:m])\n",
    "\n"
   ]
  },
  {
   "cell_type": "code",
   "execution_count": 28,
   "metadata": {},
   "outputs": [],
   "source": [
    "def naiveSearchArr(value, arr, left, right) : # O(n)\n",
    "    for i in range(left, right) : \n",
    "        if arr[i] == value : \n",
    "            return True \n",
    "    return False \n",
    "\n",
    "\n",
    "def binarySearchArr(value, arr, l, r) : # logn\n",
    "    if r-l <= 0 : \n",
    "        return False \n",
    "\n",
    "    m = (l+r)//2 \n",
    "\n",
    "    if value == arr[m] : \n",
    "        return True \n",
    "\n",
    "    if value > arr[m] : \n",
    "        return binarySearchArr(value, arr, m+1, r)\n",
    "    else : \n",
    "        return binarySearchArr(value, arr, l, m)\n",
    "\n"
   ]
  },
  {
   "cell_type": "code",
   "execution_count": 29,
   "metadata": {},
   "outputs": [
    {
     "name": "stdout",
     "output_type": "stream",
     "text": [
      "naive -->  0.7977671999997256\n",
      "binary -->  0.1025841999999102\n"
     ]
    }
   ],
   "source": [
    "l = list(range(0, 100000, 2))\n",
    "\n",
    "t = Timer()\n",
    "t.start()\n",
    "\n",
    "for i in range(301, 1300, 2) : \n",
    "    v = naiveSearch(i, l)\n",
    "\n",
    "t.stop()\n",
    "print('naive --> ', t)\n",
    "\n",
    "t.start()\n",
    "\n",
    "for i in range(301, 1300, 2) : \n",
    "    v = binarySearch(i, l)\n",
    "\n",
    "t.stop()\n",
    "print('binary --> ', t)\n"
   ]
  },
  {
   "cell_type": "code",
   "execution_count": 30,
   "metadata": {},
   "outputs": [
    {
     "name": "stdout",
     "output_type": "stream",
     "text": [
      "naive -->  7.136818899998616\n",
      "binary -->  0.018442499998855055\n"
     ]
    }
   ],
   "source": [
    "l = np.arange(0, 100000, 2)\n",
    "\n",
    "t = Timer()\n",
    "t.start()\n",
    "\n",
    "for i in range(301, 1300, 2) : \n",
    "    v = naiveSearchArr(i, l, 0, np.prod(l.shape))\n",
    "\n",
    "t.stop()\n",
    "print('naive --> ', t) # much slower \n",
    "\n",
    "t.start()\n",
    "\n",
    "for i in range(301, 1300, 2) : \n",
    "    v = binarySearchArr(i, l, 0, np.prod(l.shape))\n",
    "\n",
    "t.stop()\n",
    "print('binary --> ', t) # much faster "
   ]
  },
  {
   "attachments": {},
   "cell_type": "markdown",
   "metadata": {},
   "source": [
    "similarly selection sort, merge sort and insertion sort would be slower in array \n",
    "\n",
    "indexing works better in list than array "
   ]
  },
  {
   "attachments": {},
   "cell_type": "markdown",
   "metadata": {},
   "source": [
    "### Dictionary \n",
    "\n",
    "**Hash function** \n",
    "  \n",
    "* h: S -> X maps a set of vakyes S to a small range f int X = {0, 1, 2... n-1}\n",
    "\n",
    "    names -> roll number \n",
    "* typically |X| << |S|, so there will be collisions. different keys might have same value\n",
    "* a good hash function will minimize collisions \n",
    "\n",
    "SHA-256 is an industry standard hashing function whose range is 256bits \n",
    "\n",
    "in practice before uploading file some hashing is done, if the hash of new file is already present then file will not be uploaded again just a copy would be made.\n",
    "\n",
    "```\n",
    "dict : \n",
    "d[k] = v \n",
    "k -> h(k) -> j \n",
    "store at jth location\n",
    "```\n",
    "if the location is already occupied then we have to avoid collisions. there are 2 methods to handle that.\n",
    "\n",
    "1. open addresing (closed hashing) :\n",
    "    we create an array with much large space, if we the required place is occupied then we probe a sequence of alt slots in the same array (e.g. +10 +10 / -10 -10) until we find the space.\n",
    "\n",
    "2. Open hashing : \n",
    "    each slot in the array points to a list of values. in simple terms each element in the array is again an array \n",
    "\n",
    "Dict keys in python must be immutable, you can't use list as a key to a dict. because if you update the key then the hash will change and the value will be lost."
   ]
  },
  {
   "attachments": {},
   "cell_type": "markdown",
   "metadata": {},
   "source": [
    "### Stack\n",
    "A Stack is a `non-primitive linear data structure`. It is an ordered list in which the addition of a new data item and deletion of an already existing data item can be done from only one end, known as top of the stack.\n",
    "\n",
    "The last added element will be the first to be removed from the Stack. That is the reason why stack is also called Last In First Out (LIFO) type of data structure.\n",
    "\n",
    "**Basic operations on Stack**\n",
    "\n",
    "1. Push\n",
    "    The process of adding a new element to the top of the Stack is called the Push operation.\n",
    "2. Pop\n",
    "    The process of deleting an existing element from the top of the Stack is called the Pop operation. It returns the deleted value.\n",
    "3. Traverse/Display\n",
    "    The process of accessing or reading each element from top to bottom in Stack is called the Traverse operation.\n",
    "\n",
    "**Applications of Stack**\n",
    "* Reverse the string\n",
    "* Evaluate Expression\n",
    "* Undo/Redo Operation\n",
    "* Backtracking\n",
    "* Depth First Search(DFS) in Graph\n",
    "\n",
    "### Queue\n",
    "The Queue is a `non-primitive linear data structure`. It is an ordered collection of elements in which new elements are added at one end called the Back end, and the existing element is deleted from the other end called the Front end.\n",
    "\n",
    "A Queue is logically called a First In First Out (FIFO) type of data structure.\n",
    "\n",
    "**Basic operations on Queue**\n",
    "1. Enqueue\n",
    "    The process of adding a new element at the Back end of Queue is called the Enqueue operation.\n",
    "2. Dequeue\n",
    "    The process of deleting an existing element from the Front of the Queue is called the Dequeue operation. It returns the deleted value.\n",
    "\n",
    "3. Traverse/Display\n",
    "    The process of accessing or reading each element from Front to Back of the Queue is called the Traverse operation.\n",
    "\n",
    "**Applications of Queue**\n",
    "* Spooling in printers\n",
    "* Job Scheduling in OS\n",
    "* Waiting list application\n",
    "* Breadth First Search(BFS) in Graph"
   ]
  },
  {
   "cell_type": "code",
   "execution_count": null,
   "metadata": {},
   "outputs": [],
   "source": []
  }
 ],
 "metadata": {
  "kernelspec": {
   "display_name": "Python 3",
   "language": "python",
   "name": "python3"
  },
  "language_info": {
   "codemirror_mode": {
    "name": "ipython",
    "version": 3
   },
   "file_extension": ".py",
   "mimetype": "text/x-python",
   "name": "python",
   "nbconvert_exporter": "python",
   "pygments_lexer": "ipython3",
   "version": "3.7.9"
  },
  "orig_nbformat": 4
 },
 "nbformat": 4,
 "nbformat_minor": 2
}
