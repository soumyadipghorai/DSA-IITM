{
 "cells": [
  {
   "cell_type": "code",
   "execution_count": 1,
   "metadata": {},
   "outputs": [],
   "source": [
    "import time \n",
    "\n",
    "class TimeError(Exception) : \n",
    "    \"\"\"A custom exception used to report errors in use of Timer Class\"\"\"\n",
    "\n",
    "class Timer : \n",
    "    def __init__(self) : \n",
    "        self._start_time = None\n",
    "        self._elapsed_time = None\n",
    "\n",
    "    def start(self) : \n",
    "        \"\"\"start a new timer\"\"\"\n",
    "        if self._start_time is not None :\n",
    "            raise TimeError(\"Timer is running. Use .stop()\")\n",
    "        self._start_time = time.perf_counter()\n",
    "\n",
    "    def stop(self) : \n",
    "        \"\"\"Save the elapsed time and re-initialize timer\"\"\"\n",
    "        if self._start_time is None : \n",
    "            raise TimeError(\"Timer is not running. User .start()\")\n",
    "        self._elapsed_time = time.perf_counter() - self._start_time\n",
    "        self._start_time = None\n",
    "\n",
    "    def elapsed(self) : \n",
    "        \"\"\"Report elapsed time\"\"\"\n",
    "        if self._elapsed_time is None : \n",
    "            raise TimeError(\"Timer is not running. Use .start()\")\n",
    "        retunr (self._elapsed_time)\n",
    "\n",
    "    def __str__(self) : \n",
    "        \"\"\"print() prints elapsed time\"\"\"\n",
    "        return str(self._elapsed_time)"
   ]
  },
  {
   "cell_type": "code",
   "execution_count": 2,
   "metadata": {},
   "outputs": [],
   "source": [
    "# find median (pivot)\n",
    "# > med --> left \n",
    "# < med --> right \n",
    "# sort left + sort right \n",
    "def quickSort(L, l, r) : \n",
    "    if r - l <= 1 : \n",
    "        return L \n",
    "\n",
    "    pivot, lower, upper = L[l], l+1, l+1 \n",
    "    \n",
    "    for i in range(l+1, r) : \n",
    "        # extend upper  \n",
    "        if L[i] > pivot : \n",
    "            upper += 1 \n",
    "        # lowest from upper <> current \n",
    "        else : \n",
    "            L[i], L[lower] = L[lower], L[i]\n",
    "\n",
    "            lower, upper = lower+1, upper + 1 \n",
    "\n",
    "    # pivot <> last of lower  \n",
    "    # pushing pivot between lower and upper \n",
    "    L[l], L[lower-1] = L[lower-1], L[l]\n",
    "    lower -= 1 \n",
    "\n",
    "    # sort left and right \n",
    "    quickSort(L, l, lower)\n",
    "    quickSort(L, lower+1, upper)\n",
    "\n",
    "    return L\n",
    "\n",
    "# lists updates in place \n",
    "\n",
    "# worst case O(n^2)\n",
    "# avg case O(nlogn) -> can be achieved by randomly choosing the pivot element \n",
    "#  often used for built in sorting algo (algo of choice in most cases)"
   ]
  },
  {
   "cell_type": "code",
   "execution_count": 3,
   "metadata": {},
   "outputs": [],
   "source": [
    "import sys \n",
    "\n",
    "sys.setrecursionlimit(2**31-1)"
   ]
  },
  {
   "cell_type": "code",
   "execution_count": 4,
   "metadata": {},
   "outputs": [
    {
     "name": "stdout",
     "output_type": "stream",
     "text": [
      "[-5, 0, 1, 2, 2, 3, 3, 4, 4, 5, 6, 17] --> [-5, 0, 1, 2, 2, 3, 3, 4, 4, 5, 6, 17]\n"
     ]
    }
   ],
   "source": [
    "qlist = [1, 3, 5, 0, 2, 4, 17, 2, -5, 6, 4, 3]\n",
    "qnew = quickSort(qlist, 0, 12)\n",
    "\n",
    "print(qnew,'-->', qlist)"
   ]
  },
  {
   "cell_type": "code",
   "execution_count": 7,
   "metadata": {},
   "outputs": [
    {
     "name": "stdout",
     "output_type": "stream",
     "text": [
      "random  time taken -->  0.24239389999999617\n"
     ]
    },
    {
     "ename": "",
     "evalue": "",
     "output_type": "error",
     "traceback": [
      "\u001b[1;31mCannot execute code, session has been disposed. Please try restarting the Kernel."
     ]
    },
    {
     "ename": "",
     "evalue": "",
     "output_type": "error",
     "traceback": [
      "\u001b[1;31mThe Kernel crashed while executing code in the the current cell or a previous cell. Please review the code in the cell(s) to identify a possible cause of the failure. Click <a href='https://aka.ms/vscodeJupyterKernelCrash'>here</a> for more info. View Jupyter <a href='command:jupyter.viewOutput'>log</a> for further details."
     ]
    }
   ],
   "source": [
    "import random \n",
    "\n",
    "random.seed(2021)\n",
    "\n",
    "inputLists = {}\n",
    "\n",
    "inputLists['random'] = [random.randrange(100000) for i in range(50000)]\n",
    "inputLists['asc'] = [i for i in range(50000)]\n",
    "inputLists['desc'] = [i for i in range(49999, -1, -1)]\n",
    "\n",
    "t = Timer()\n",
    "for k in inputLists.keys() : \n",
    "    tmplist = inputLists[k][:]\n",
    "    t.start()\n",
    "    quickSort(tmplist, 0, len(tmplist))\n",
    "    t.stop()\n",
    "    print(k, ' time taken --> ', t) \n",
    "\n",
    "# works significantly faster in random case \n",
    "# but not in sorted ones in takes way more "
   ]
  },
  {
   "attachments": {},
   "cell_type": "markdown",
   "metadata": {},
   "source": [
    "stability --> sorting on one column should not affect the sorting on another column <br> \n",
    "--> quick sort is not stable <br> \n",
    "--> merge sort is stable <br> \n",
    "merge sort is used for external sorting <br> \n",
    "\n",
    "heap sort -> O(nlogn)<br> \n",
    "\n",
    "we can use hybrid sorting combining mutiple sorting algos <br> "
   ]
  },
  {
   "attachments": {},
   "cell_type": "markdown",
   "metadata": {},
   "source": [
    "### List and Array \n",
    "\n",
    "**List :**\n",
    "* flexible length \n",
    "* easy to modify structure \n",
    "* values are scattered in memory \n",
    "(linkedList)\n",
    "* inserting or deleting is easier\n",
    "\n",
    "**Array** \n",
    "* Fixed size \n",
    "* allocate a contiguous block of memory \n",
    "* supports random access, accessing any element takes same amount of time  (as size is fixed and type is fixed so you exactly know how much positions to skip for the element)\n",
    "* inserting or deleting is O(n) worst case\n",
    "accessing is faster in array \n",
    "\n",
    "**Operations** \n",
    "* Swap -> array (constant)  list(O(n))\n",
    "* delete, inset -> array (O(N))  list(constant)\n",
    "\n",
    "if you insert at right place in a sorted list using binary search then finding middle is easier in array but inserting is easier list "
   ]
  },
  {
   "cell_type": "code",
   "execution_count": 6,
   "metadata": {},
   "outputs": [
    {
     "data": {
      "text/plain": [
       "False"
      ]
     },
     "execution_count": 6,
     "metadata": {},
     "output_type": "execute_result"
    }
   ],
   "source": [
    "class Node : \n",
    "    def __init__(self, val = None) : \n",
    "        self.value = val \n",
    "        self.next = None \n",
    "\n",
    "    def isEmpty(self) : \n",
    "        if self.value == None : \n",
    "            return True \n",
    "        return False \n",
    "\n",
    "    def append(self, val) : \n",
    "        if self.isEmpty() : \n",
    "            self.value = val  \n",
    "\n",
    "        else : \n",
    "            itr = self \n",
    "\n",
    "            while itr.next : \n",
    "                itr = itr.next  \n",
    "\n",
    "            itr.next = Node(val)\n",
    "\n",
    "        return \n",
    "\n",
    "    def appendItr(self, val) : \n",
    "        if self.isEmpty() : \n",
    "            self.value = val \n",
    "        \n",
    "        elif self.next == None : \n",
    "            self.next = Node(val)\n",
    "\n",
    "        else :\n",
    "            self.next.append(val)\n",
    "\n",
    "        return \n",
    "\n",
    "    def insert(self, val) : \n",
    "        \n",
    "\n",
    "l1 = Node()\n",
    "l1.isEmpty()\n",
    "\n",
    "l2 = Node(5)\n",
    "l2.isEmpty()"
   ]
  },
  {
   "cell_type": "code",
   "execution_count": null,
   "metadata": {},
   "outputs": [],
   "source": []
  }
 ],
 "metadata": {
  "kernelspec": {
   "display_name": "Python 3",
   "language": "python",
   "name": "python3"
  },
  "language_info": {
   "codemirror_mode": {
    "name": "ipython",
    "version": 3
   },
   "file_extension": ".py",
   "mimetype": "text/x-python",
   "name": "python",
   "nbconvert_exporter": "python",
   "pygments_lexer": "ipython3",
   "version": "3.7.9"
  },
  "orig_nbformat": 4
 },
 "nbformat": 4,
 "nbformat_minor": 2
}
