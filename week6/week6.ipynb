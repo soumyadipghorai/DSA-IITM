{
 "cells": [
  {
   "cell_type": "code",
   "execution_count": 1,
   "metadata": {},
   "outputs": [],
   "source": [
    "class unionFind : \n",
    "    def __init__(self, n) : \n",
    "        self.component = {}\n",
    "        self.Members = {}\n",
    "        self.n = n \n",
    "        self.size = {}\n",
    "\n",
    "    def makeUnionFind(S) : # O(n)\n",
    "        for i in S : \n",
    "            self.component[i] = i\n",
    "            self.Members[i] = [i]\n",
    "            self.size[i] = 1\n",
    " \n",
    "    def find(self, i) :  # O(1)\n",
    "        return self.component[i] \n",
    "\n",
    "    def union(self, i, j) : # O( n)\n",
    "        c_old = self.component[i]\n",
    "        c_new = self.component[j]\n",
    "\n",
    "        # find through out all the edges \n",
    "        for k in range(self.n) : \n",
    "            if self.component[k] == c_old : \n",
    "                self.component[k] = c_new\n",
    "\n",
    "    # we will always add the smaller one with the larger one \n",
    "    # self.size will help to find out the smaller one \n",
    "    def union_fast(i, j) : # O(logm)\n",
    "        c_old = self.component[i] \n",
    "        c_new = self.component[j]\n",
    "\n",
    "        # find with in only the members --> take the one with smaller size \n",
    "        for k in self.Members[c_old] :\n",
    "            self.component[k] = c_new\n",
    "            self.Members[c_new].append(k)\n",
    "            self.size[c_new] += 1 \n",
    "\n",
    "# we can use tree to store the components and make the time complexity to O(1)\n",
    "# we can apply path compression to flatten the trees to make this possible \n",
    "# so that all the components are one step below the root node   "
   ]
  },
  {
   "cell_type": "code",
   "execution_count": null,
   "metadata": {},
   "outputs": [],
   "source": [
    " "
   ]
  },
  {
   "cell_type": "code",
   "execution_count": null,
   "metadata": {},
   "outputs": [],
   "source": []
  }
 ],
 "metadata": {
  "kernelspec": {
   "display_name": "Python 3",
   "language": "python",
   "name": "python3"
  },
  "language_info": {
   "codemirror_mode": {
    "name": "ipython",
    "version": 3
   },
   "file_extension": ".py",
   "mimetype": "text/x-python",
   "name": "python",
   "nbconvert_exporter": "python",
   "pygments_lexer": "ipython3",
   "version": "3.10.7"
  },
  "orig_nbformat": 4
 },
 "nbformat": 4,
 "nbformat_minor": 2
}
