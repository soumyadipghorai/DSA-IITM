{
 "cells": [
  {
   "cell_type": "code",
   "execution_count": 1,
   "metadata": {},
   "outputs": [],
   "source": [
    "def mergeAndCount(A, B) : \n",
    "    m, n = len(A), len(B)\n",
    "    C, i, j, k, count = [], 0, 0, 0, 0\n",
    "    # continue until everything is done  \n",
    "    while k < m+n : \n",
    "\n",
    "        # if nothing from A is left keep adding B elements\n",
    "        if i == m : \n",
    "            C.append(B[j])\n",
    "            j, k = j+1, k+1\n",
    "\n",
    "        # if nothing from B is left keep adding A elements\n",
    "        elif j == n : \n",
    "            C.append(A[i])\n",
    "            i, k = i+1, k+1\n",
    "\n",
    "        # ideal case \n",
    "        elif A[i] < B[j] : \n",
    "            C.append(A[i])\n",
    "            i, k = i+1, k+1\n",
    "\n",
    "        # increment counter \n",
    "        else : \n",
    "            C.append(B[j])\n",
    "            j, k, count = j+1, k+1, count+ m - i\n",
    "\n",
    "        return C, count"
   ]
  },
  {
   "cell_type": "code",
   "execution_count": 4,
   "metadata": {},
   "outputs": [
    {
     "name": "stdout",
     "output_type": "stream",
     "text": [
      "0\n"
     ]
    }
   ],
   "source": [
    "def sortAndCount(A) : \n",
    "    n = len(A)\n",
    "\n",
    "    if n <= 1 : \n",
    "        return A, 0 \n",
    "\n",
    "    L, countL = sortAndCount(A[:n//2])\n",
    "    R, countR = sortAndCount(A[n//2:])\n",
    "\n",
    "    B, countB = mergeAndCount(L, R)\n",
    "\n",
    "    return B, countL + countR + countB\n",
    "\n",
    "L = [2,4,3,1,5]\n",
    "L = [1, 3, 7, 2, 6, 8]\n",
    "print(sortAndCount(L)[1])\n",
    "\n",
    "# O(nlogn)"
   ]
  },
  {
   "cell_type": "code",
   "execution_count": null,
   "metadata": {},
   "outputs": [],
   "source": [
    "\"\"\"\n",
    "def ClosestPair(Px,Py):\n",
    "    if len(Px) <= 3:\n",
    "        compute pairwise distances\n",
    "        return closest pair and distance\n",
    "    Construct (Qx,Qy), (Rx,Ry)\n",
    "    (q1,q2,dQ) = ClosestPair(Qx,Qy)\n",
    "    (r1,r2,dR) = ClosestPair(Rx,Ry)\n",
    "    Construct Sy from Qy,Ry\n",
    "    Scan Sy, find (s1,s2,dS)\n",
    "    return (q1,q2,dQ), (r1,r2,QR), (s1,s2,dS)\n",
    "    #depending on which of dQ, dR, dS is minimum\n",
    "\"\"\"\n",
    "\n",
    "import math\n",
    "\n",
    "# Returns eucledian disatnce between points p and q\n",
    "def distance(p, q):\n",
    "  return math.sqrt(math.pow(p[0] - q[0],2) + math.pow(p[1] - q[1],2))\n",
    "\n",
    "def minDistanceRec(Px, Py):\n",
    "  s = len(Px)\n",
    "  # Given number of points cannot be less than 2.\n",
    "  # If only 2 or 3 points are left return the minimum distance accordingly.\n",
    "  if (s == 2):\n",
    "    return distance(Px[0],Px[1])\n",
    "  elif (s == 3):\n",
    "    return min(distance(Px[0],Px[1]), distance(Px[1],Px[2]), distance(Px[2],Px[0]))\n",
    "\n",
    "  # For more than 3 points divide the poitns by point around median of x coordinates\n",
    "  m = s//2\n",
    "  Qx = Px[:m]\n",
    "  Rx = Px[m:]\n",
    "  xR = Rx[0][0]    # minimum x value in Rx\n",
    "  \n",
    "  # Construct Qy and Ry in O(n) rather from Py\n",
    "  Qy=[]\n",
    "  Ry=[]\n",
    "  for p in Py:\n",
    "    if(p[0] < xR):\n",
    "      Qy.append(p)\n",
    "    else:\n",
    "      Ry.append(p)\n",
    "\n",
    "  # Extract Sy using delta\n",
    "  delta = min(minDistanceRec(Qx, Qy), minDistanceRec(Rx, Ry))\n",
    "  Sy = []\n",
    "  for p in Py:\n",
    "    if abs(p[0]-xR) <= delta:\n",
    "      Sy.append(p)\n",
    "    \n",
    "  #print(xR,delta,Sy)\n",
    "  sizeS = len(Sy)\n",
    "  if sizeS > 1:\n",
    "      minS = distance(Sy[0], Sy[1])\n",
    "      for i in range(1, sizeS-1):\n",
    "          for j in range(i, min(i+15, sizeS-1)):\n",
    "              minS = min(minS, distance(Sy[i], Sy[j+1]))\n",
    "      return min(delta, minS)\n",
    "  else:\n",
    "      return delta\n",
    "\n",
    "def minDistance(Points):\n",
    "  Px = sorted(Points)\n",
    "  Py = Points\n",
    "  Py.sort(key=lambda x: x[-1])\n",
    "  #print(Px,Py)\n",
    "  return round(minDistanceRec(Px, Py), 2)\n",
    "\n",
    "\n",
    "\n",
    "pts =  [(2, 15), (40, 5), (20, 1), (21, 14), (1,4), (3, 11)]\n",
    "result = minDistance(pts)\n",
    "print(result)"
   ]
  },
  {
   "cell_type": "code",
   "execution_count": 5,
   "metadata": {},
   "outputs": [
    {
     "name": "stdout",
     "output_type": "stream",
     "text": [
      "30765312.0\n"
     ]
    }
   ],
   "source": [
    "# here 10 represent base of input numbers x and y\n",
    "def Fast_Multiply(x,y,n):\n",
    "    if n == 1:\n",
    "        return x * y\n",
    "    else:\n",
    "        m = n/2\n",
    "        xh = x//10**m\n",
    "        xl = x % (10**m)\n",
    "        yh = y//10**m\n",
    "        yl = y % (10**m)\n",
    "        a = xh + xl\n",
    "        b = yh + yl\n",
    "        p = Fast_Multiply(xh, yh, m)\n",
    "        q = Fast_Multiply(xl, yl, m)\n",
    "        r = Fast_Multiply(a, b, m)\n",
    "        return p*(10**n) + (r - q - p) * (10**(n/2)) + q \n",
    "print(Fast_Multiply(3456,8902,4))"
   ]
  },
  {
   "cell_type": "code",
   "execution_count": 6,
   "metadata": {},
   "outputs": [
    {
     "name": "stdout",
     "output_type": "stream",
     "text": [
      "2\n"
     ]
    }
   ],
   "source": [
    "def quickselect(L,l,r,k): # k-th smallest in L[l:r]\n",
    "    if k < 1 or k > r-l:\n",
    "        return None\n",
    "\n",
    "    pivot, lower, upper = L[l], l+1, l+1\n",
    "    for i in range(l+1,r):\n",
    "        if L[i] > pivot:  # Extend upper segment\n",
    "            upper = upper + 1\n",
    "        \n",
    "        else: # Exchange L[i] with start of upper segment\n",
    "            L[i], L[lower] = L[lower], L[i]\n",
    "            lower,upper = lower+1,upper+1\n",
    "    \n",
    "    L[l],L[lower-1] = L[lower-1],L[l] # Move pivot\n",
    "    lower = lower - 1\n",
    "\n",
    "    # Recursive calls\n",
    "    lowerlen = lower - l\n",
    "    if k <= lowerlen:\n",
    "        return quickselect(L,l,lower,k)\n",
    "    \n",
    "    elif k == lowerlen + 1:\n",
    "        return L[lower]\n",
    "    \n",
    "    else:\n",
    "        return(quickselect(L,lower+1,r,k-(lowerlen+1)))\n",
    "print(quickselect([5,3,7,2,1],0,5,2))"
   ]
  },
  {
   "cell_type": "code",
   "execution_count": 7,
   "metadata": {},
   "outputs": [
    {
     "name": "stdout",
     "output_type": "stream",
     "text": [
      "8\n"
     ]
    }
   ],
   "source": [
    "def MoM(L): # Median of medians\n",
    "    if len(L) <= 5:\n",
    "        L.sort()\n",
    "        return(L[len(L)//2])\n",
    "    # Construct list of block medians\n",
    "    M = []\n",
    "    for i in range(0,len(L),5):\n",
    "        X = L[i:i+5]\n",
    "        X.sort()\n",
    "        M.append(X[len(X)//2])\n",
    "    return(MoM(M))\n",
    "print(MoM([4,3,5,6,2,1,8,9,7,10,13,15,18,17,11]))"
   ]
  },
  {
   "cell_type": "code",
   "execution_count": 10,
   "metadata": {},
   "outputs": [
    {
     "name": "stdout",
     "output_type": "stream",
     "text": [
      "4\n"
     ]
    }
   ],
   "source": [
    "def fastselect(L,l,r,k): # k-th smallest in L[l:r]\n",
    "    if (k < 1) or (k > r-l):\n",
    "        return(None)\n",
    "\n",
    "    # Find MoM pivot and move to L[l]\n",
    "    pivot = MoM(L[l:r])\n",
    "    pivotpos = min([i for i in range(l,r) if L[i] == pivot])\n",
    "    L[l],L[pivotpos] = L[pivotpos],L[l]\n",
    "\n",
    "    pivot,lower,upper = L[l],l+1,l+1\n",
    "    for i in range(l+1,r):\n",
    "        if L[i] > pivot:  # Extend upper segment\n",
    "            upper = upper + 1\n",
    "        else: # Exchange L[i] with start of upper segment\n",
    "            L[i], L[lower] = L[lower], L[i]\n",
    "            lower,upper = lower+1,upper+1\n",
    "    L[l],L[lower-1] = L[lower-1],L[l] # Move pivot\n",
    "    lower = lower - 1\n",
    "    \n",
    "    # Recursive calls\n",
    "    lowerlen = lower - l\n",
    "    if k <= lowerlen:\n",
    "        return(fastselect(L,l,lower,k))\n",
    "    elif k == lowerlen + 1:\n",
    "        return(L[lower])\n",
    "    else:\n",
    "        return(fastselect(L,lower+1,r,k-(lowerlen+1)))\n",
    "\n",
    "print(fastselect([4,3,5,6,2,1,8,9,7,10,13,15,18,17,11],0,15,4))\n"
   ]
  },
  {
   "cell_type": "code",
   "execution_count": null,
   "metadata": {},
   "outputs": [],
   "source": []
  }
 ],
 "metadata": {
  "kernelspec": {
   "display_name": "Python 3",
   "language": "python",
   "name": "python3"
  },
  "language_info": {
   "codemirror_mode": {
    "name": "ipython",
    "version": 3
   },
   "file_extension": ".py",
   "mimetype": "text/x-python",
   "name": "python",
   "nbconvert_exporter": "python",
   "pygments_lexer": "ipython3",
   "version": "3.7.9"
  },
  "orig_nbformat": 4
 },
 "nbformat": 4,
 "nbformat_minor": 2
}
