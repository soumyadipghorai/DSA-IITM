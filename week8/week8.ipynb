{
 "cells": [
  {
   "cell_type": "code",
   "execution_count": 1,
   "metadata": {},
   "outputs": [],
   "source": [
    "def mergeAndCount(A, B) : \n",
    "    m, n = len(A), len(B)\n",
    "    C, i, j, k, count = [], 0, 0, 0, 0\n",
    "    # continue until everything is done  \n",
    "    while k < m+n : \n",
    "\n",
    "        # if nothing from A is left keep adding B elements\n",
    "        if i == m : \n",
    "            C.append(B[j])\n",
    "            j, k = j+1, k+1\n",
    "\n",
    "        # if nothing from B is left keep adding A elements\n",
    "        elif j == n : \n",
    "            C.append(A[i])\n",
    "            i, k = i+1, k+1\n",
    "\n",
    "        # ideal case \n",
    "        elif A[i] < B[j] : \n",
    "            C.append(A[i])\n",
    "            i, k = i+1, k+1\n",
    "\n",
    "        # increment counter \n",
    "        else : \n",
    "            C.append(B[j])\n",
    "            j, k, count = j+1, k+1, count+ m - i\n",
    "\n",
    "        return C, count"
   ]
  },
  {
   "cell_type": "code",
   "execution_count": 4,
   "metadata": {},
   "outputs": [
    {
     "name": "stdout",
     "output_type": "stream",
     "text": [
      "0\n"
     ]
    }
   ],
   "source": [
    "def sortAndCount(A) : \n",
    "    n = len(A)\n",
    "\n",
    "    if n <= 1 : \n",
    "        return A, 0 \n",
    "\n",
    "    L, countL = sortAndCount(A[:n//2])\n",
    "    R, countR = sortAndCount(A[n//2:])\n",
    "\n",
    "    B, countB = mergeAndCount(L, R)\n",
    "\n",
    "    return B, countL + countR + countB\n",
    "\n",
    "L = [2,4,3,1,5]\n",
    "L = [1, 3, 7, 2, 6, 8]\n",
    "print(sortAndCount(L)[1])\n",
    "\n",
    "# O(nlogn)"
   ]
  },
  {
   "cell_type": "code",
   "execution_count": null,
   "metadata": {},
   "outputs": [],
   "source": []
  },
  {
   "cell_type": "code",
   "execution_count": null,
   "metadata": {},
   "outputs": [],
   "source": []
  }
 ],
 "metadata": {
  "kernelspec": {
   "display_name": "Python 3",
   "language": "python",
   "name": "python3"
  },
  "language_info": {
   "codemirror_mode": {
    "name": "ipython",
    "version": 3
   },
   "file_extension": ".py",
   "mimetype": "text/x-python",
   "name": "python",
   "nbconvert_exporter": "python",
   "pygments_lexer": "ipython3",
   "version": "3.7.9"
  },
  "orig_nbformat": 4
 },
 "nbformat": 4,
 "nbformat_minor": 2
}
