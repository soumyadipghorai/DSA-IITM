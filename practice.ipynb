{
 "cells": [
  {
   "cell_type": "code",
   "execution_count": 45,
   "metadata": {},
   "outputs": [
    {
     "data": {
      "text/plain": [
       "array([[0., 1., 0., 0., 1., 0., 0., 0., 0., 0.],\n",
       "       [0., 0., 1., 0., 0., 0., 0., 0., 0., 0.],\n",
       "       [1., 0., 0., 0., 0., 0., 0., 0., 0., 0.],\n",
       "       [0., 0., 0., 0., 1., 0., 1., 0., 0., 0.],\n",
       "       [1., 0., 0., 1., 0., 0., 0., 1., 0., 0.],\n",
       "       [0., 0., 0., 1., 0., 0., 0., 1., 0., 0.],\n",
       "       [0., 0., 0., 0., 0., 1., 0., 0., 0., 0.],\n",
       "       [0., 0., 0., 0., 1., 0., 0., 0., 1., 0.],\n",
       "       [0., 0., 0., 0., 0., 1., 0., 0., 0., 1.],\n",
       "       [0., 0., 0., 0., 0., 0., 0., 0., 1., 0.]])"
      ]
     },
     "execution_count": 45,
     "metadata": {},
     "output_type": "execute_result"
    }
   ],
   "source": [
    "import numpy as np \n",
    "\n",
    "edges = [\n",
    "    (0, 1), (0, 4), (1, 2), (2, 0), \n",
    "    (3, 4), (3, 6), (4, 0), (4, 3), \n",
    "    (4, 7), (5, 3), (5, 7), (6, 5), \n",
    "    (7, 4), (7, 8), (8, 5), (8, 9), (9, 8)\n",
    "]\n",
    "\n",
    "A = np.zeros(shape = (10, 10))\n",
    "\n",
    "for i, j in edges : \n",
    "    A[i, j] = 1\n",
    "\n",
    "A\n",
    "\n",
    "# undirected "
   ]
  },
  {
   "cell_type": "code",
   "execution_count": 46,
   "metadata": {},
   "outputs": [
    {
     "data": {
      "text/plain": [
       "{0: [1, 4],\n",
       " 1: [2],\n",
       " 2: [0],\n",
       " 3: [4, 6],\n",
       " 4: [0, 3, 7],\n",
       " 5: [3, 7],\n",
       " 6: [5],\n",
       " 7: [4, 8],\n",
       " 8: [5, 9],\n",
       " 9: [8]}"
      ]
     },
     "execution_count": 46,
     "metadata": {},
     "output_type": "execute_result"
    }
   ],
   "source": [
    "AList = {}\n",
    "\n",
    "for i in range(10) : \n",
    "    AList[i] = []\n",
    "\n",
    "for (i, j) in edges : \n",
    "    AList[i].append(j)\n",
    "\n",
    "AList"
   ]
  },
  {
   "cell_type": "code",
   "execution_count": 17,
   "metadata": {},
   "outputs": [
    {
     "name": "stdout",
     "output_type": "stream",
     "text": [
      "[7]\n",
      "7 [] nbrs of 7 =[4, 8] --> [4, 8]\n",
      "4 [8] nbrs of 4 =[0, 3, 7] --> [8, 0, 3]\n",
      "8 [0, 3] nbrs of 8 =[5, 9] --> [0, 3, 5, 9]\n",
      "0 [3, 5, 9] nbrs of 0 =[1, 4] --> [3, 5, 9, 1]\n",
      "3 [5, 9, 1] nbrs of 3 =[4, 6] --> [5, 9, 1, 6]\n",
      "5 [9, 1, 6] nbrs of 5 =[3, 7] --> [9, 1, 6]\n",
      "9 [1, 6] nbrs of 9 =[8] --> [1, 6]\n",
      "1 [6] nbrs of 1 =[2] --> [6, 2]\n",
      "6 [2] nbrs of 6 =[5] --> [2]\n",
      "2 [] nbrs of 2 =[0] --> []\n"
     ]
    },
    {
     "data": {
      "text/plain": [
       "{0: True,\n",
       " 1: True,\n",
       " 2: True,\n",
       " 3: True,\n",
       " 4: True,\n",
       " 5: True,\n",
       " 6: True,\n",
       " 7: True,\n",
       " 8: True,\n",
       " 9: True}"
      ]
     },
     "execution_count": 17,
     "metadata": {},
     "output_type": "execute_result"
    }
   ],
   "source": [
    "class Queue : \n",
    "    def __init__(self) : \n",
    "        self.arr = []\n",
    "\n",
    "    def addq(self, val) : \n",
    "        self.arr.append(val) \n",
    "\n",
    "    def isEmpty(self) : \n",
    "        return self.arr == []\n",
    "\n",
    "    def delq(self) : \n",
    "        val = None \n",
    "        if not self.isEmpty() :\n",
    "            val = self.arr[0]\n",
    "            self.arr = self.arr[1:]\n",
    "\n",
    "        return val \n",
    "\n",
    "    def __str__(self) : \n",
    "        return str(self.arr)\n",
    "\n",
    "\n",
    "def neighbours(AMat, v) : \n",
    "    output = []\n",
    "    for i in range(len(AMat)) : \n",
    "        if AMat[v, i] == 1 : \n",
    "            output.append(i)\n",
    "\n",
    "    return output \n",
    "\n",
    "\n",
    "def BFS(AMat, v) : \n",
    "\n",
    "    rows, cols = AMat.shape \n",
    "    visited = {}\n",
    "    for i in range(rows) : \n",
    "        visited[i] = False\n",
    "\n",
    "    q = Queue()\n",
    "\n",
    "    q.addq(v)\n",
    "    visited[v] = True \n",
    "    print(q)\n",
    "\n",
    "    while not q.isEmpty() : \n",
    "        j = q.delq()\n",
    "        print(j, q, end = f' nbrs of {j} =')\n",
    "        print(neighbours(AMat, j), end = ' --> ')\n",
    "        for k in neighbours(AMat, j) : \n",
    "            if not visited[k] : \n",
    "                q.addq(k)\n",
    "                visited[k] = True \n",
    "\n",
    "        print(q)\n",
    "\n",
    "\n",
    "    return visited \n",
    "\n",
    "BFS(A, 7)"
   ]
  },
  {
   "cell_type": "code",
   "execution_count": 24,
   "metadata": {},
   "outputs": [
    {
     "data": {
      "text/plain": [
       "({0: 4, 1: 0, 2: 1, 3: 4, 4: 7, 5: 8, 6: 3, 7: -1, 8: 7, 9: 8},\n",
       " {0: True,\n",
       "  1: True,\n",
       "  2: True,\n",
       "  3: True,\n",
       "  4: True,\n",
       "  5: True,\n",
       "  6: True,\n",
       "  7: True,\n",
       "  8: True,\n",
       "  9: True})"
      ]
     },
     "execution_count": 24,
     "metadata": {},
     "output_type": "execute_result"
    }
   ],
   "source": [
    "def BFSListPath(AList, v) : \n",
    "\n",
    "    parent, visited = {}, {}\n",
    "    for i in AList.keys() : \n",
    "        visited[i] = False \n",
    "        parent[i] = -1 \n",
    "\n",
    "    q = Queue()\n",
    "    q.addq(v)\n",
    "    visited[v] = True\n",
    "\n",
    "    while not q.isEmpty() : \n",
    "        j = q.delq()\n",
    "        for k in AList[j] : \n",
    "            if not visited[k] : \n",
    "                visited[k] = True \n",
    "                parent[k] = j \n",
    "                q.addq(k)\n",
    "\n",
    "    return parent, visited\n",
    "\n",
    "BFSListPath(AList, 7)"
   ]
  },
  {
   "cell_type": "code",
   "execution_count": 26,
   "metadata": {},
   "outputs": [
    {
     "data": {
      "text/plain": [
       "({0: 2, 1: 3, 2: 4, 3: 2, 4: 1, 5: 2, 6: 3, 7: 0, 8: 1, 9: 2},\n",
       " {0: 4, 1: 0, 2: 1, 3: 4, 4: 7, 5: 8, 6: 3, 7: -1, 8: 7, 9: 8})"
      ]
     },
     "execution_count": 26,
     "metadata": {},
     "output_type": "execute_result"
    }
   ],
   "source": [
    "def BFSListPathLevel(AList, v) : \n",
    "\n",
    "    parent, level = {}, {}\n",
    "    for i in AList.keys() : \n",
    "        level[i] = -1 \n",
    "        parent[i] = -1 \n",
    "\n",
    "    q = Queue()\n",
    "    q.addq(v)\n",
    "    level[v] = 0\n",
    "\n",
    "    while not q.isEmpty() : \n",
    "        j = q.delq()\n",
    "        for k in AList[j] : \n",
    "            if level[k] == -1 : \n",
    "                level[k] = level[j] + 1 \n",
    "                parent[k] = j \n",
    "                q.addq(k)\n",
    "\n",
    "    return level, parent\n",
    "\n",
    "BFSListPathLevel(AList, 7)"
   ]
  },
  {
   "cell_type": "code",
   "execution_count": 53,
   "metadata": {},
   "outputs": [
    {
     "name": "stdout",
     "output_type": "stream",
     "text": [
      "(None, {0: [1, 4], 1: [2], 2: [0], 3: [4, 6], 4: [0, 3, 7], 5: [3, 7], 6: [5], 7: [4, 8], 8: [5, 9], 9: [8]}, {0: False, 1: False, 2: False, 3: False, 4: False, 5: False, 6: False, 7: False, 8: False, 9: False}, {0: -1, 1: -1, 2: -1, 3: -1, 4: -1, 5: -1, 6: -1, 7: -1, 8: -1, 9: -1})\n",
      "({0: True, 1: True, 2: True, 3: True, 4: True, 5: True, 6: True, 7: True, 8: True, 9: True}, {0: 4, 1: 0, 2: 1, 3: 4, 4: 7, 5: 6, 6: 3, 7: -1, 8: 7, 9: 8})\n"
     ]
    }
   ],
   "source": [
    "class DFS : \n",
    "    def __init__(self, AMat, AList) : \n",
    "        self.AMat = AMat \n",
    "        self.AList = AList\n",
    "        self.visited = {}\n",
    "        self.parent = {}\n",
    "\n",
    "    def checkVal(self) : \n",
    "        return self.AMat, self.AList, self.visited, self.parent \n",
    "\n",
    "    def neighbours(self, node) : \n",
    "        output = []\n",
    "        rows, cols = self.AMat.shape \n",
    "\n",
    "        for i in range(rows) : \n",
    "            if self.AMat[node, i] == 1 : \n",
    "                output.append(i)\n",
    "\n",
    "        return output \n",
    "\n",
    "    def initVar(self) :\n",
    "        rows, cols = self.AMat.shape \n",
    "\n",
    "        for i in range(rows) : \n",
    "            self.visited[i] = False \n",
    "            self.parent[i] = -1 \n",
    "\n",
    "    def initListVar(self) : \n",
    "        for key in self.AList.keys() : \n",
    "            self.visited[key] = False \n",
    "            self.parent[key] = -1\n",
    "\n",
    "\n",
    "    def preformDFS(self, startV) : \n",
    "        self.visited[startV] = True \n",
    "\n",
    "        for k in self.neighbours(startV) : \n",
    "            if not self.visited[k] : \n",
    "                self.parent[k] = startV \n",
    "                self.preformDFS(k)\n",
    "\n",
    "        return self.visited, self.parent \n",
    "\n",
    "    def performDFSList(self, startV) :\n",
    "        self.visited[startV] = True \n",
    "\n",
    "        for nbrs in self.AList[startV] : \n",
    "            if not self.visited[nbrs] : \n",
    "                self.parent[nbrs] = startV\n",
    "                self.performDFSList(nbrs)\n",
    "\n",
    "        return self.visited, self.parent\n",
    "\n",
    "\n",
    "if __name__ == '__main__' : \n",
    "    # mat  \n",
    "    test = DFS(A, None)\n",
    "    test.initVar()\n",
    "    test.checkVal()\n",
    "    test.preformDFS(7)\n",
    "\n",
    "    # list \n",
    "    test2 = DFS(None, AList)\n",
    "    test2.initListVar()\n",
    "    # print(test2.checkVal())\n",
    "    print(test2.performDFSList(7))"
   ]
  },
  {
   "cell_type": "code",
   "execution_count": 65,
   "metadata": {},
   "outputs": [
    {
     "data": {
      "text/plain": [
       "{0: 0, 1: 0, 2: 0, 3: 0, 4: 0, 5: 0, 6: 0, 7: 0, 8: 0, 9: 0}"
      ]
     },
     "execution_count": 65,
     "metadata": {},
     "output_type": "execute_result"
    }
   ],
   "source": [
    "def component(AList) : \n",
    "    component = {}\n",
    "    for key in AList.keys() : \n",
    "        component[key] = -1 \n",
    "\n",
    "    compID, seen = 0, 0 \n",
    "\n",
    "    while seen <= max(AList.keys()) : \n",
    "        node = min([key for key in AList.keys() if component[key] == -1])\n",
    "\n",
    "        visited = BFSListPath(AList, node)[1]\n",
    "\n",
    "        for j in visited.keys() : \n",
    "            if visited[j] : \n",
    "                seen += 1 \n",
    "                component[j] = compID\n",
    "\n",
    "        compID += 1 \n",
    "\n",
    "    return component\n",
    "\n",
    "component(AList)"
   ]
  },
  {
   "cell_type": "code",
   "execution_count": 66,
   "metadata": {},
   "outputs": [],
   "source": [
    "visited, pre, post = {}, {}, {}\n",
    "\n",
    "def DFSInitPrePost(AList) : \n",
    "    for key in AList.keys() : \n",
    "        visited[key], pre[key], post[key] = False, -1, -1 \n",
    "\n",
    "def DFSPrePost(AList, v, count) : \n",
    "    visited[v] = True \n",
    "    pre[v] = count \n",
    "    count += 1 \n",
    "\n",
    "    for k in AList[v] : \n",
    "        if not visited[k] : \n",
    "            count = DFSPrePost(AList, k, count)\n",
    "\n",
    "    post[v] = count     \n",
    "    count += 1 \n",
    "\n",
    "    return count "
   ]
  },
  {
   "cell_type": "code",
   "execution_count": 72,
   "metadata": {},
   "outputs": [
    {
     "data": {
      "text/plain": [
       "[0, 1, 2, 3, 4]"
      ]
     },
     "execution_count": 72,
     "metadata": {},
     "output_type": "execute_result"
    }
   ],
   "source": [
    "A_dag = np.array([\n",
    "    [0, 1, 1, 0, 0],\n",
    "    [0, 0, 1, 0, 1],\n",
    "    [0, 0, 0, 1, 0],\n",
    "    [0, 0, 0, 0, 1],\n",
    "    [0, 0, 0, 0, 0]\n",
    "])\n",
    "\n",
    "AList_dag = {}\n",
    "\n",
    "for i in range(len(A_dag)) : \n",
    "    AList_dag[i] = []\n",
    "\n",
    "for i in range(len(A_dag)) :\n",
    "    for j in range(len(A_dag)) : \n",
    "        if A_dag[i, j] == 1 : \n",
    "            AList_dag[i].append(j)\n",
    "\n",
    "\n",
    "def topSort(AMat) : \n",
    "    indegree, topSortList = {}, []\n",
    "    \n",
    "    rows, cols = AMat.shape \n",
    "\n",
    "    for c in range(cols) : \n",
    "        indegree[c] = 0 \n",
    "        for r in range(rows) : \n",
    "            if AMat[r, c] == 1 : \n",
    "                indegree[c] += 1 \n",
    "\n",
    "    for i in range(rows) : \n",
    "        j = min([c for c in range(cols) if indegree[c] == 0])\n",
    "\n",
    "        indegree[j] -= 1 \n",
    "        topSortList.append(j)\n",
    "\n",
    "        for k in range(cols) : \n",
    "            if AMat[j, k] == 1 : \n",
    "                indegree[k] -= 1 \n",
    "\n",
    "    return topSortList\n",
    "\n",
    "topSort(A_dag)"
   ]
  },
  {
   "cell_type": "code",
   "execution_count": 76,
   "metadata": {},
   "outputs": [
    {
     "data": {
      "text/plain": [
       "[0, 1, 2, 3, 4]"
      ]
     },
     "execution_count": 76,
     "metadata": {},
     "output_type": "execute_result"
    }
   ],
   "source": [
    "def topSortList(AList) : \n",
    "    indegree, topSortList = {}, []\n",
    "\n",
    "    for key in AList.keys() : \n",
    "        indegree[key] = 0 \n",
    "\n",
    "    for key in AList.keys() : \n",
    "        for node in AList[key] : \n",
    "            indegree[node] += 1 \n",
    "\n",
    "    for i in range(len(AList.keys())) : \n",
    "        node = min([k for k in indegree.keys() if indegree[k] == 0])\n",
    "\n",
    "        indegree[node] -= 1\n",
    "        topSortList.append(node)\n",
    "\n",
    "        for k in AList[node] : \n",
    "            indegree[k] -= 1 \n",
    "\n",
    "    return topSortList \n",
    "\n",
    "topSortList(AList_dag)"
   ]
  },
  {
   "cell_type": "code",
   "execution_count": null,
   "metadata": {},
   "outputs": [],
   "source": []
  }
 ],
 "metadata": {
  "kernelspec": {
   "display_name": "Python 3",
   "language": "python",
   "name": "python3"
  },
  "language_info": {
   "codemirror_mode": {
    "name": "ipython",
    "version": 3
   },
   "file_extension": ".py",
   "mimetype": "text/x-python",
   "name": "python",
   "nbconvert_exporter": "python",
   "pygments_lexer": "ipython3",
   "version": "3.10.7"
  },
  "orig_nbformat": 4
 },
 "nbformat": 4,
 "nbformat_minor": 2
}
