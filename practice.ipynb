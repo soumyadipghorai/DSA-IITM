{
 "cells": [
  {
   "cell_type": "code",
   "execution_count": 2,
   "metadata": {},
   "outputs": [
    {
     "data": {
      "text/plain": [
       "array([[0., 1., 0., 0., 1., 0., 0., 0., 0., 0.],\n",
       "       [0., 0., 1., 0., 0., 0., 0., 0., 0., 0.],\n",
       "       [1., 0., 0., 0., 0., 0., 0., 0., 0., 0.],\n",
       "       [0., 0., 0., 0., 1., 0., 1., 0., 0., 0.],\n",
       "       [1., 0., 0., 1., 0., 0., 0., 1., 0., 0.],\n",
       "       [0., 0., 0., 1., 0., 0., 0., 1., 0., 0.],\n",
       "       [0., 0., 0., 0., 0., 1., 0., 0., 0., 0.],\n",
       "       [0., 0., 0., 0., 1., 0., 0., 0., 1., 0.],\n",
       "       [0., 0., 0., 0., 0., 1., 0., 0., 0., 1.],\n",
       "       [0., 0., 0., 0., 0., 0., 0., 0., 1., 0.]])"
      ]
     },
     "execution_count": 2,
     "metadata": {},
     "output_type": "execute_result"
    }
   ],
   "source": [
    "import numpy as np \n",
    "\n",
    "edges = [\n",
    "    (0, 1), (0, 4), (1, 2), (2, 0), \n",
    "    (3, 4), (3, 6), (4, 0), (4, 3), \n",
    "    (4, 7), (5, 3), (5, 7), (6, 5), \n",
    "    (7, 4), (7, 8), (8, 5), (8, 9), (9, 8)\n",
    "]\n",
    "\n",
    "A = np.zeros(shape = (10, 10))\n",
    "\n",
    "for i, j in edges : \n",
    "    A[i, j] = 1\n",
    "\n",
    "A\n",
    "\n",
    "# undirected "
   ]
  },
  {
   "cell_type": "code",
   "execution_count": 21,
   "metadata": {},
   "outputs": [
    {
     "data": {
      "text/plain": [
       "{0: [1, 4],\n",
       " 1: [2],\n",
       " 2: [0],\n",
       " 3: [4, 6],\n",
       " 4: [0, 3, 7],\n",
       " 5: [3, 7],\n",
       " 6: [5],\n",
       " 7: [4, 8],\n",
       " 8: [5, 9],\n",
       " 9: [8]}"
      ]
     },
     "execution_count": 21,
     "metadata": {},
     "output_type": "execute_result"
    }
   ],
   "source": [
    "AList = {}\n",
    "\n",
    "for i in range(10) : \n",
    "    AList[i] = []\n",
    "\n",
    "for (i, j) in edges : \n",
    "    AList[i].append(j)\n",
    "\n",
    "AList"
   ]
  },
  {
   "cell_type": "code",
   "execution_count": 17,
   "metadata": {},
   "outputs": [
    {
     "name": "stdout",
     "output_type": "stream",
     "text": [
      "[7]\n",
      "7 [] nbrs of 7 =[4, 8] --> [4, 8]\n",
      "4 [8] nbrs of 4 =[0, 3, 7] --> [8, 0, 3]\n",
      "8 [0, 3] nbrs of 8 =[5, 9] --> [0, 3, 5, 9]\n",
      "0 [3, 5, 9] nbrs of 0 =[1, 4] --> [3, 5, 9, 1]\n",
      "3 [5, 9, 1] nbrs of 3 =[4, 6] --> [5, 9, 1, 6]\n",
      "5 [9, 1, 6] nbrs of 5 =[3, 7] --> [9, 1, 6]\n",
      "9 [1, 6] nbrs of 9 =[8] --> [1, 6]\n",
      "1 [6] nbrs of 1 =[2] --> [6, 2]\n",
      "6 [2] nbrs of 6 =[5] --> [2]\n",
      "2 [] nbrs of 2 =[0] --> []\n"
     ]
    },
    {
     "data": {
      "text/plain": [
       "{0: True,\n",
       " 1: True,\n",
       " 2: True,\n",
       " 3: True,\n",
       " 4: True,\n",
       " 5: True,\n",
       " 6: True,\n",
       " 7: True,\n",
       " 8: True,\n",
       " 9: True}"
      ]
     },
     "execution_count": 17,
     "metadata": {},
     "output_type": "execute_result"
    }
   ],
   "source": [
    "class Queue : \n",
    "    def __init__(self) : \n",
    "        self.arr = []\n",
    "\n",
    "    def addq(self, val) : \n",
    "        self.arr.append(val) \n",
    "\n",
    "    def isEmpty(self) : \n",
    "        return self.arr == []\n",
    "\n",
    "    def delq(self) : \n",
    "        val = None \n",
    "        if not self.isEmpty() :\n",
    "            val = self.arr[0]\n",
    "            self.arr = self.arr[1:]\n",
    "\n",
    "        return val \n",
    "\n",
    "    def __str__(self) : \n",
    "        return str(self.arr)\n",
    "\n",
    "\n",
    "def neighbours(AMat, v) : \n",
    "    output = []\n",
    "    for i in range(len(AMat)) : \n",
    "        if AMat[v, i] == 1 : \n",
    "            output.append(i)\n",
    "\n",
    "    return output \n",
    "\n",
    "\n",
    "def BFS(AMat, v) : \n",
    "\n",
    "    rows, cols = AMat.shape \n",
    "    visited = {}\n",
    "    for i in range(rows) : \n",
    "        visited[i] = False\n",
    "\n",
    "    q = Queue()\n",
    "\n",
    "    q.addq(v)\n",
    "    visited[v] = True \n",
    "    print(q)\n",
    "\n",
    "    while not q.isEmpty() : \n",
    "        j = q.delq()\n",
    "        print(j, q, end = f' nbrs of {j} =')\n",
    "        print(neighbours(AMat, j), end = ' --> ')\n",
    "        for k in neighbours(AMat, j) : \n",
    "            if not visited[k] : \n",
    "                q.addq(k)\n",
    "                visited[k] = True \n",
    "\n",
    "        print(q)\n",
    "\n",
    "\n",
    "    return visited \n",
    "\n",
    "BFS(A, 7)"
   ]
  },
  {
   "cell_type": "code",
   "execution_count": 24,
   "metadata": {},
   "outputs": [
    {
     "data": {
      "text/plain": [
       "({0: 4, 1: 0, 2: 1, 3: 4, 4: 7, 5: 8, 6: 3, 7: -1, 8: 7, 9: 8},\n",
       " {0: True,\n",
       "  1: True,\n",
       "  2: True,\n",
       "  3: True,\n",
       "  4: True,\n",
       "  5: True,\n",
       "  6: True,\n",
       "  7: True,\n",
       "  8: True,\n",
       "  9: True})"
      ]
     },
     "execution_count": 24,
     "metadata": {},
     "output_type": "execute_result"
    }
   ],
   "source": [
    "def BFSListPath(AList, v) : \n",
    "\n",
    "    parent, visited = {}, {}\n",
    "    for i in AList.keys() : \n",
    "        visited[i] = False \n",
    "        parent[i] = -1 \n",
    "\n",
    "    q = Queue()\n",
    "    q.addq(v)\n",
    "    visited[v] = True\n",
    "\n",
    "    while not q.isEmpty() : \n",
    "        j = q.delq()\n",
    "        for k in AList[j] : \n",
    "            if not visited[k] : \n",
    "                visited[k] = True \n",
    "                parent[k] = j \n",
    "                q.addq(k)\n",
    "\n",
    "    return parent, visited\n",
    "\n",
    "BFSListPath(AList, 7)"
   ]
  },
  {
   "cell_type": "code",
   "execution_count": null,
   "metadata": {},
   "outputs": [],
   "source": []
  }
 ],
 "metadata": {
  "kernelspec": {
   "display_name": "Python 3",
   "language": "python",
   "name": "python3"
  },
  "language_info": {
   "codemirror_mode": {
    "name": "ipython",
    "version": 3
   },
   "file_extension": ".py",
   "mimetype": "text/x-python",
   "name": "python",
   "nbconvert_exporter": "python",
   "pygments_lexer": "ipython3",
   "version": "3.10.7"
  },
  "orig_nbformat": 4
 },
 "nbformat": 4,
 "nbformat_minor": 2
}
